{
 "cells": [
  {
   "cell_type": "markdown",
   "id": "23a9c219",
   "metadata": {},
   "source": [
    "# Boolean retrieval implementation and execution over TREC-DL 2020 Passage Ranking task"
   ]
  },
  {
   "cell_type": "code",
   "execution_count": 72,
   "id": "b2a74ca8",
   "metadata": {},
   "outputs": [],
   "source": [
    "import nltk\n",
    "import string\n",
    "\n",
    "import re\n",
    "\n",
    "import numpy as np\n",
    "\n",
    "import time\n",
    "\n",
    "from scipy.sparse import csr_matrix, lil_matrix\n",
    "from multiprocessing import Pool\n",
    "\n",
    "import pickle\n",
    "import gc\n",
    "\n",
    "import os\n",
    "\n",
    "import scipy.sparse as scipy_sparse\n",
    "\n",
    "from datetime import datetime"
   ]
  },
  {
   "cell_type": "code",
   "execution_count": 103,
   "id": "e98f597c",
   "metadata": {},
   "outputs": [],
   "source": [
    "MSMARCO_PASSAGE_COLLECTION=\"/mnt/0060f889-4c27-409b-b0de-47f5427515e3/unicamp/ia368v_dd/pyserini/collections/msmarco-passage/collection.tsv\"\n",
    "\n",
    "STEMMED_DOCS_FILE=\"/mnt/0060f889-4c27-409b-b0de-47f5427515e3/unicamp/ia368v_dd/ia368v_dd_class_02/indexes/tempfile.pkl\"\n",
    "\n",
    "STEMMED_DOCS_FILE_FORMAT=\"{}_{}.pkl\"\n",
    "STEMMED_DOCS_FOLDER=\"/mnt/0060f889-4c27-409b-b0de-47f5427515e3/unicamp/ia368v_dd/ia368v_dd_class_02/indexes\"\n",
    "\n",
    "REVERSED_INDEX_FOLDER=\"/mnt/0060f889-4c27-409b-b0de-47f5427515e3/unicamp/ia368v_dd/ia368v_dd_class_02/indexes\"\n",
    "REVERSED_INDEX_FILE_FORMAT=\"reversed_index_TREC-DL_2020_{}.pkl\"\n",
    "\n",
    "REVERSED_INDEX_FILE=\"/mnt/0060f889-4c27-409b-b0de-47f5427515e3/unicamp/ia368v_dd/ia368v_dd_class_02/indexes/reversed_index_TREC-DL_2020_complete.pkl\"\n",
    "\n",
    "TREC_DL_2020_QUERIES=\"/mnt/0060f889-4c27-409b-b0de-47f5427515e3/unicamp/ia368v_dd/pyserini/collections/trec-dl_2020-passage/msmarco-test2020-queries.tsv\"\n",
    "TREC_DL_2020_QRELS=\"/mnt/0060f889-4c27-409b-b0de-47f5427515e3/unicamp/ia368v_dd/pyserini/collections/trec-dl_2020-passage/2020qrels-pass.txt\"\n",
    "\n",
    "TREC_DL_2020_RUN_FORMAT=\"TREC_DL_2020_boolean_run_{}.tsv\"\n",
    "TREC_DL_2020_RUN_FOLDER=\"/mnt/0060f889-4c27-409b-b0de-47f5427515e3/unicamp/ia368v_dd/ia368v_dd_class_02/runs\"\n",
    "\n",
    "TREC_EVAL_FULLPATH=\"/mnt/0060f889-4c27-409b-b0de-47f5427515e3/unicamp/ia368v_dd/pyserini/tools/eval/trec_eval.9.0.4/trec_eval\"\n",
    "\n",
    "NUMBER_OF_DOCS=8841822\n",
    "\n",
    "PARTIAL_STEMMED_DOCS_COUNT=1000000"
   ]
  },
  {
   "cell_type": "markdown",
   "id": "9a8f251f",
   "metadata": {},
   "source": [
    "## Text preprocessing functions"
   ]
  },
  {
   "cell_type": "code",
   "execution_count": 3,
   "id": "8f388128",
   "metadata": {},
   "outputs": [],
   "source": [
    "stop_words = set(nltk.corpus.stopwords.words('english'))\n",
    "punctuation = set(string.punctuation)\n",
    "stemmer = nltk.stem.PorterStemmer()"
   ]
  },
  {
   "cell_type": "code",
   "execution_count": 4,
   "id": "b5d036b1",
   "metadata": {},
   "outputs": [],
   "source": [
    "def test_preprocess_text(which_text):\n",
    "\n",
    "    all_tokens = nltk.word_tokenize(which_text.lower())\n",
    "    cleaned_tokens = [token for token in all_tokens if token not in stop_words and token not in punctuation]\n",
    "    stemmed_tokens = [stemmer.stem(token) for token in cleaned_tokens]\n",
    "\n",
    "    return stemmed_tokens"
   ]
  },
  {
   "cell_type": "markdown",
   "id": "39b29b67",
   "metadata": {},
   "source": [
    "## Read all the documents and their corresponding indexes"
   ]
  },
  {
   "cell_type": "code",
   "execution_count": 120,
   "id": "1fb14914",
   "metadata": {},
   "outputs": [],
   "source": [
    "read_documents_text = []\n",
    "read_documents_index = []"
   ]
  },
  {
   "cell_type": "code",
   "execution_count": 121,
   "id": "a12a966c",
   "metadata": {},
   "outputs": [],
   "source": [
    "with open(MSMARCO_PASSAGE_COLLECTION, 'r', encoding=\"utf-8\") as inputFile:\n",
    "    \n",
    "    for i in range(NUMBER_OF_DOCS):\n",
    "        line = inputFile.readline()\n",
    "        cleaned = re.sub(\"(â.{1}.{1})\", \" \", line)\n",
    "        document_data = cleaned.split('\\t')        \n",
    "\n",
    "        read_documents_text.append(document_data[1])\n",
    "        read_documents_index.append(document_data[0])"
   ]
  },
  {
   "cell_type": "code",
   "execution_count": 122,
   "id": "e9db2637",
   "metadata": {},
   "outputs": [
    {
     "data": {
      "text/plain": [
       "8841822"
      ]
     },
     "execution_count": 122,
     "metadata": {},
     "output_type": "execute_result"
    }
   ],
   "source": [
    "len(read_documents_text)"
   ]
  },
  {
   "cell_type": "code",
   "execution_count": 139,
   "id": "3ed4afad",
   "metadata": {},
   "outputs": [
    {
     "data": {
      "text/plain": [
       "'The Complete Medical Record and Electronic Charting Chapter Outline The Medical Record Important Uses of the Medical Record Medical Record Formats Source-Oriented Medical Record (SOMR) Problem-Oriented Medical Record (POMR) Combining Formats Contents of the Medical Record Administrative Information in a Medical Record Clinical Information in a Medical Record Creating and Maintaining the Medical Record Maintaining the Medical Record Documenting in the Medical Record Electronic Medical Records (EMRs) Laws That Affect the Medical Record The Health Insurance Portability and Accountability Act of\\n'"
      ]
     },
     "execution_count": 139,
     "metadata": {},
     "output_type": "execute_result"
    }
   ],
   "source": [
    "read_documents_text[715779]"
   ]
  },
  {
   "cell_type": "code",
   "execution_count": 127,
   "id": "3df3439d",
   "metadata": {},
   "outputs": [
    {
     "data": {
      "text/plain": [
       "'1038342'"
      ]
     },
     "execution_count": 127,
     "metadata": {},
     "output_type": "execute_result"
    }
   ],
   "source": [
    "read_documents_index[1038342]"
   ]
  },
  {
   "cell_type": "code",
   "execution_count": null,
   "id": "81f70e3d",
   "metadata": {},
   "outputs": [],
   "source": []
  },
  {
   "cell_type": "code",
   "execution_count": null,
   "id": "73d3b7e9",
   "metadata": {},
   "outputs": [],
   "source": []
  },
  {
   "cell_type": "markdown",
   "id": "b7f6874c",
   "metadata": {},
   "source": [
    "## Now, preprocess all the documents in parallel"
   ]
  },
  {
   "cell_type": "code",
   "execution_count": null,
   "id": "c4dce722",
   "metadata": {},
   "outputs": [],
   "source": [
    "with Pool(processes=8) as pool:\n",
    "    stemmed_documents = pool.map(test_preprocess_text, read_documents_text)"
   ]
  },
  {
   "cell_type": "code",
   "execution_count": null,
   "id": "71694b00",
   "metadata": {},
   "outputs": [],
   "source": [
    "with open(STEMMED_DOCS_FILE, \"wb\") as outputFile:\n",
    "    pickle.dump({\"doc_ids\": read_documents_index, \n",
    "                 \"stemmed_docs\": stemmed_documents}, outputFile, pickle.HIGHEST_PROTOCOL)"
   ]
  },
  {
   "cell_type": "code",
   "execution_count": null,
   "id": "44eea788",
   "metadata": {},
   "outputs": [],
   "source": [
    "del read_documents_text"
   ]
  },
  {
   "cell_type": "code",
   "execution_count": null,
   "id": "9ce36913",
   "metadata": {},
   "outputs": [],
   "source": [
    "del reversed_index"
   ]
  },
  {
   "cell_type": "code",
   "execution_count": null,
   "id": "351dd999",
   "metadata": {},
   "outputs": [],
   "source": [
    "gc.collect()"
   ]
  },
  {
   "cell_type": "code",
   "execution_count": null,
   "id": "47f316f4",
   "metadata": {},
   "outputs": [],
   "source": [
    "len(stemmed_documents)"
   ]
  },
  {
   "cell_type": "markdown",
   "id": "67d566c7",
   "metadata": {},
   "source": [
    "### Split the stemmed document file in smaller ones"
   ]
  },
  {
   "cell_type": "code",
   "execution_count": null,
   "id": "d6b19ce4",
   "metadata": {},
   "outputs": [],
   "source": [
    "with open(STEMMED_DOCS_FILE, \"rb\") as inputFile:\n",
    "    \n",
    "    temp_file = pickle.load(inputFile)\n",
    "    \n",
    "    read_documents_index = temp_file['doc_ids']\n",
    "    stemmed_documents = temp_file['stemmed_docs']"
   ]
  },
  {
   "cell_type": "code",
   "execution_count": null,
   "id": "fe534ffc",
   "metadata": {},
   "outputs": [],
   "source": [
    "for i in range(NUMBER_OF_DOCS // PARTIAL_STEMMED_DOCS_COUNT + 1):\n",
    "    with open(os.path.join(STEMMED_DOCS_FOLDER, STEMMED_DOCS_FILE_FORMAT.format(\"temp\", i)), \"wb\") as outputFile:\n",
    "        pickle.dump({\"doc_ids\": read_documents_index[i * PARTIAL_STEMMED_DOCS_COUNT:(i * PARTIAL_STEMMED_DOCS_COUNT) + PARTIAL_STEMMED_DOCS_COUNT], \n",
    "                     \"stemmed_docs\": stemmed_documents[i * PARTIAL_STEMMED_DOCS_COUNT:(i * PARTIAL_STEMMED_DOCS_COUNT) + PARTIAL_STEMMED_DOCS_COUNT]}, outputFile, pickle.HIGHEST_PROTOCOL)"
   ]
  },
  {
   "cell_type": "code",
   "execution_count": null,
   "id": "dba7e8e9",
   "metadata": {},
   "outputs": [],
   "source": [
    "del read_documents_index\n",
    "del stemmed_documents\n",
    "del temp_file"
   ]
  },
  {
   "cell_type": "code",
   "execution_count": null,
   "id": "72aeaf50",
   "metadata": {},
   "outputs": [],
   "source": [
    "gc.collect()"
   ]
  },
  {
   "cell_type": "markdown",
   "id": "9fc9cb6e",
   "metadata": {},
   "source": [
    "## Finally, compute the reversed index using a sparse matrix to store the documents' word frequencies"
   ]
  },
  {
   "cell_type": "code",
   "execution_count": null,
   "id": "6311e848",
   "metadata": {},
   "outputs": [],
   "source": [
    "#\n",
    "# This function loads the partial file with the stemmed documents and computes the reversed index for the terms in the\n",
    "# documents.\n",
    "#\n",
    "# After that, the reversed index computed to the part of the entire collection is saved to be processed later.\n",
    "#\n",
    "\n",
    "def process_stemmed_docs_file(file_index):\n",
    "    \n",
    "    reversed_index = {}\n",
    "    \n",
    "    with open(os.path.join(STEMMED_DOCS_FOLDER, STEMMED_DOCS_FILE_FORMAT.format(\"temp\", file_index)), \"rb\") as inputFile:\n",
    "        temp_file = pickle.load(inputFile)\n",
    "\n",
    "        read_documents_index = temp_file['doc_ids']\n",
    "        stemmed_documents = temp_file['stemmed_docs']                \n",
    "\n",
    "    print(\"Document range: {} until {}\".format(read_documents_index[0], read_documents_index[-1]))\n",
    "        \n",
    "    start_time = time.time()\n",
    "        \n",
    "    for doc_index in range(len(stemmed_documents)):\n",
    "        \n",
    "        if doc_index % 100000 == 0:\n",
    "            print(time.time() - start_time)\n",
    "            print(doc_index)\n",
    "            start_time = time.time()\n",
    "        \n",
    "        for token in stemmed_documents[doc_index]:\n",
    "            if token not in reversed_index:\n",
    "                reversed_index[token] = lil_matrix((1, NUMBER_OF_DOCS), dtype=np.short)\n",
    "\n",
    "            reversed_index[token][0, int(read_documents_index[doc_index])] += 1\n",
    "\n",
    "    del read_documents_index\n",
    "    del stemmed_documents\n",
    "    del temp_file            \n",
    "            \n",
    "    with open(os.path.join(REVERSED_INDEX_FOLDER, REVERSED_INDEX_FILE_FORMAT.format(file_index)), 'wb') as outputFile:\n",
    "        pickle.dump(reversed_index, outputFile, pickle.HIGHEST_PROTOCOL)\n",
    "    \n",
    "    return True"
   ]
  },
  {
   "cell_type": "markdown",
   "id": "f8a172df",
   "metadata": {},
   "source": [
    "### Process in parallel all the stemmed documents file parts"
   ]
  },
  {
   "cell_type": "code",
   "execution_count": null,
   "id": "51fe004a",
   "metadata": {
    "scrolled": true
   },
   "outputs": [],
   "source": [
    "with Pool(processes=2) as pool:\n",
    "    results = pool.map(process_stemmed_docs_file, range(0, NUMBER_OF_DOCS // PARTIAL_STEMMED_DOCS_COUNT + 1))"
   ]
  },
  {
   "cell_type": "code",
   "execution_count": null,
   "id": "b1bdd654",
   "metadata": {},
   "outputs": [],
   "source": [
    "gc.collect()"
   ]
  },
  {
   "cell_type": "markdown",
   "id": "13334e6c",
   "metadata": {},
   "source": [
    "### Load the precomputed reversed indexes and consolidate them into a single dictionary\n",
    "\n",
    "The reversed index file had to be created and saved in chunks due to local RAM limitations. However, it is possible to consolidate it into a single dictionary and save it later."
   ]
  },
  {
   "cell_type": "code",
   "execution_count": null,
   "id": "af066dee",
   "metadata": {},
   "outputs": [],
   "source": [
    "start_time = time.time()\n",
    "\n",
    "with open(os.path.join(REVERSED_INDEX_FOLDER, REVERSED_INDEX_FILE_FORMAT.format(0)), 'rb') as inputFile:\n",
    "    reversed_indexes = pickle.load(inputFile)\n",
    "\n",
    "for i in range(1, NUMBER_OF_DOCS // PARTIAL_STEMMED_DOCS_COUNT + 1):\n",
    "    with open(os.path.join(REVERSED_INDEX_FOLDER, REVERSED_INDEX_FILE_FORMAT.format(i)), 'rb') as inputFile:\n",
    "        reversed_indexes_tmp = pickle.load(inputFile)\n",
    "        \n",
    "    for token, token_docs in reversed_indexes_tmp.items():\n",
    "        if token in reversed_indexes:\n",
    "            reversed_indexes[token] = reversed_indexes[token] + token_docs\n",
    "        else:\n",
    "            reversed_indexes[token] = token_docs\n",
    "            \n",
    "print(time.time() - start_time)"
   ]
  },
  {
   "cell_type": "code",
   "execution_count": null,
   "id": "3ac0d1e4",
   "metadata": {},
   "outputs": [],
   "source": [
    "gc.collect()"
   ]
  },
  {
   "cell_type": "code",
   "execution_count": null,
   "id": "8b8345c6",
   "metadata": {},
   "outputs": [],
   "source": [
    "len(reversed_indexes)"
   ]
  },
  {
   "cell_type": "code",
   "execution_count": null,
   "id": "babea2e5",
   "metadata": {},
   "outputs": [],
   "source": [
    "with open(REVERSED_INDEX_FILE, 'wb') as outputFile:\n",
    "    pickle.dump(reversed_indexes, outputFile, pickle.HIGHEST_PROTOCOL)"
   ]
  },
  {
   "cell_type": "markdown",
   "id": "530f9dde",
   "metadata": {},
   "source": [
    "## .. or read the preprocessed data"
   ]
  },
  {
   "cell_type": "code",
   "execution_count": 5,
   "id": "fd343a92",
   "metadata": {},
   "outputs": [],
   "source": [
    "with open(REVERSED_INDEX_FILE, 'rb') as inputFile:\n",
    "    reversed_indexes = pickle.load(inputFile)"
   ]
  },
  {
   "cell_type": "code",
   "execution_count": 6,
   "id": "ca129cc2",
   "metadata": {},
   "outputs": [
    {
     "data": {
      "text/plain": [
       "3750155"
      ]
     },
     "execution_count": 6,
     "metadata": {},
     "output_type": "execute_result"
    }
   ],
   "source": [
    "len(reversed_indexes)"
   ]
  },
  {
   "cell_type": "markdown",
   "id": "86d0fc6a",
   "metadata": {},
   "source": [
    "## Now run the queries"
   ]
  },
  {
   "cell_type": "code",
   "execution_count": 7,
   "id": "30527c82",
   "metadata": {},
   "outputs": [],
   "source": [
    "query_index = []\n",
    "query_text = []"
   ]
  },
  {
   "cell_type": "markdown",
   "id": "a5bacb7c",
   "metadata": {},
   "source": [
    "### Read all the queries in memory"
   ]
  },
  {
   "cell_type": "code",
   "execution_count": 8,
   "id": "f9389a58",
   "metadata": {},
   "outputs": [],
   "source": [
    "with open(TREC_DL_2020_QUERIES, 'r', encoding=\"utf-8\") as inputFile:\n",
    "    for line in inputFile:\n",
    "        query_data = line.split('\\t')\n",
    "        \n",
    "        query_index.append(query_data[0])\n",
    "        query_text.append(query_data[1])"
   ]
  },
  {
   "cell_type": "code",
   "execution_count": 9,
   "id": "bf1426da",
   "metadata": {},
   "outputs": [
    {
     "data": {
      "text/plain": [
       "200"
      ]
     },
     "execution_count": 9,
     "metadata": {},
     "output_type": "execute_result"
    }
   ],
   "source": [
    "len(query_text)"
   ]
  },
  {
   "cell_type": "markdown",
   "id": "2b79a76f",
   "metadata": {},
   "source": [
    "### Preprocess the queries the same way as the documents"
   ]
  },
  {
   "cell_type": "code",
   "execution_count": 10,
   "id": "550665ff",
   "metadata": {},
   "outputs": [],
   "source": [
    "with Pool(processes=8) as pool:\n",
    "    stemmed_queries = pool.map(test_preprocess_text, query_text)"
   ]
  },
  {
   "cell_type": "code",
   "execution_count": 11,
   "id": "8fc8be0f",
   "metadata": {},
   "outputs": [
    {
     "data": {
      "text/plain": [
       "200"
      ]
     },
     "execution_count": 11,
     "metadata": {},
     "output_type": "execute_result"
    }
   ],
   "source": [
    "len(stemmed_queries)"
   ]
  },
  {
   "cell_type": "markdown",
   "id": "309ac490",
   "metadata": {},
   "source": [
    "### Find the query matches"
   ]
  },
  {
   "cell_type": "code",
   "execution_count": 113,
   "id": "dc385d83",
   "metadata": {},
   "outputs": [],
   "source": [
    "def find_related_documents(stemmed_query, only_all_terms=False):\n",
    "    \n",
    "    related_documents = {}\n",
    "    \n",
    "    for token in stemmed_query:\n",
    "        if token in reversed_indexes:\n",
    "            \n",
    "#             print(token)\n",
    "            \n",
    "            related_docs = reversed_indexes[token].nonzero()\n",
    "            \n",
    "            if type(reversed_indexes[token]) is scipy_sparse._csr.csr_matrix:\n",
    "                related_docs_scores = np.array(reversed_indexes[token][related_docs])[0]\n",
    "            else:\n",
    "                related_docs_scores = np.array(reversed_indexes[token][related_docs].todense())[0]\n",
    "            \n",
    "            for i, doc in enumerate(related_docs[1]):\n",
    "                if only_all_terms:\n",
    "                    if not related_documents:\n",
    "                        related_documents[doc] = 0\n",
    "\n",
    "                    if doc in related_documents:\n",
    "                        related_documents[doc] += related_docs_scores[i]\n",
    "                else:\n",
    "                    if doc not in related_documents:\n",
    "                        related_documents[doc] = 0\n",
    "                    \n",
    "                    related_documents[doc] += related_docs_scores[i]\n",
    "            \n",
    "    return related_documents"
   ]
  },
  {
   "cell_type": "code",
   "execution_count": 114,
   "id": "de93760a",
   "metadata": {
    "scrolled": true
   },
   "outputs": [
    {
     "name": "stdout",
     "output_type": "stream",
     "text": [
      "0 : ['aziz', 'hashim']\n",
      "0.0016260147094726562\n",
      "\n",
      "1 : ['rep', 'scalis']\n",
      "0.007838964462280273\n",
      "\n",
      "2 : ['kill', 'nichola', 'ii', 'russia']\n",
      "0.1594095230102539\n",
      "\n",
      "3 : ['own', 'barnhart', 'crane']\n",
      "0.05151653289794922\n",
      "\n",
      "4 : ['said', 'one', 'make', 'feel', 'inferior']\n",
      "2.6888651847839355\n",
      "\n",
      "5 : ['sing', 'monk', 'theme', 'song']\n",
      "0.11971712112426758\n",
      "\n",
      "6 : ['highest', 'career', 'passer', 'rate', 'nfl']\n",
      "0.5287888050079346\n",
      "\n",
      "7 : ['hunter', 'pattern', 'shotgun']\n",
      "0.06828188896179199\n",
      "\n",
      "8 : ['place', 'scalp', 'feel', 'sore']\n",
      "0.6487905979156494\n",
      "\n",
      "9 : ['pete', 'rose', 'ban', 'hall', 'fame']\n",
      "0.08589935302734375\n",
      "\n",
      "10 : ['thoma', 'cooley']\n",
      "0.027501821517944336\n",
      "\n",
      "11 : ['definit', 'endors']\n",
      "0.31087207794189453\n",
      "\n",
      "12 : ['hormon', 'increas', 'calcium', 'level', 'blood']\n",
      "0.9822475910186768\n",
      "\n",
      "13 : ['defin', 'geon']\n",
      "0.14307117462158203\n",
      "\n",
      "14 : ['amazon', 'rainforest', 'locat']\n",
      "0.4675126075744629\n",
      "\n",
      "15 : ['four', 'forc', 'act', 'airplan', 'equilibrium']\n",
      "0.5646154880523682\n",
      "\n",
      "16 : ['defin', 'pareto', 'chart', 'statist']\n",
      "0.30861949920654297\n",
      "\n",
      "17 : ['year', 'timberwolv', 'found']\n",
      "1.4452648162841797\n",
      "\n",
      "18 : ['year', 'knee', 'deep', 'come', 'funkadel']\n",
      "1.477196216583252\n",
      "\n",
      "19 : ['defin', 'defin', 'gallow']\n",
      "0.17995166778564453\n",
      "\n",
      "20 : ['tissu', 'compos', 'hypodermi']\n",
      "0.17598795890808105\n",
      "\n",
      "21 : ['time', 'zone', 'st', 'paul', 'minnesota']\n",
      "1.171435832977295\n",
      "\n",
      "22 : ['best', 'way', 'get', 'cloth', 'white']\n",
      "1.820932388305664\n",
      "\n",
      "23 : ['temperatur', 'humid', 'dri', 'sausag']\n",
      "0.37079787254333496\n",
      "\n",
      "24 : ['mental', 'ill']\n",
      "0.09795475006103516\n",
      "\n",
      "25 : ['medium', 'radio', 'wave', 'travel']\n",
      "0.2761826515197754\n",
      "\n",
      "26 : ['languag', 'craith', 'film']\n",
      "0.21526288986206055\n",
      "\n",
      "27 : ['un', 'fao']\n",
      "0.008990287780761719\n",
      "\n",
      "28 : ['distanc', 'flat', 'rock', 'michigan', 'detroit', 'michigan']\n",
      "0.26775050163269043\n",
      "\n",
      "29 : ['shakespear', \"'s\", 'theatr', 'call']\n",
      "2.4288980960845947\n",
      "\n",
      "30 : ['reba', 'mcentir', \"'s\", 'net', 'worth']\n",
      "1.8805782794952393\n",
      "\n",
      "31 : ['call', 'blood', 'becom', 'thin']\n",
      "1.2474119663238525\n",
      "\n",
      "32 : ['meat', 'group']\n",
      "0.3583498001098633\n",
      "\n",
      "33 : ['conform', 'definit']\n",
      "0.309406042098999\n",
      "\n",
      "34 : ['chaff', 'flare']\n",
      "0.005584239959716797\n",
      "\n",
      "35 : ['nonconform', 'earth', 'scienc']\n",
      "0.19536995887756348\n",
      "\n",
      "36 : ['unauthor', 'act', 'write', 'mean']\n",
      "0.8534605503082275\n",
      "\n",
      "37 : ['word', 'potteri', 'mean']\n",
      "0.8432745933532715\n",
      "\n",
      "38 : ['provis', 'mean']\n",
      "0.613734245300293\n",
      "\n",
      "39 : ['plank', 'owner', 'mean']\n",
      "0.655362606048584\n",
      "\n",
      "40 : ['distraint', 'mean']\n",
      "0.5621411800384521\n",
      "\n",
      "41 : ['psycholog', 'screen', 'consist', 'egg', 'donor']\n",
      "0.37426280975341797\n",
      "\n",
      "42 : ['cari', 'detect', 'system']\n",
      "0.5630502700805664\n",
      "\n",
      "43 : ['discrimin', 'workplac', 'oklahoma', 'citi']\n",
      "0.3718533515930176\n",
      "\n",
      "44 : ['major', 'polit', 'parti', 'great', 'britain', 'select', 'appli']\n",
      "1.1131513118743896\n",
      "\n",
      "45 : ['symptom', 'kid']\n",
      "0.32440638542175293\n",
      "\n",
      "46 : ['amino', 'produc', 'carnitin']\n",
      "0.31848835945129395\n",
      "\n",
      "47 : ['adob', 'need', 'creat', 'extern', 'link', 'pdf', 'document']\n",
      "1.3532063961029053\n",
      "\n",
      "48 : ['walmart', 'phone', 'number', 'linton']\n",
      "0.672095537185669\n",
      "\n",
      "49 : ['briefli', 'describ', 'lung', 'function']\n",
      "0.4462015628814697\n",
      "\n",
      "50 : ['rout', 'number', 'save', 'bank', 'main']\n",
      "1.0293200016021729\n",
      "\n",
      "51 : ['reign', 'definit']\n",
      "0.31734275817871094\n",
      "\n",
      "52 : ['outmaneuv', 'definit']\n",
      "0.30860066413879395\n",
      "\n",
      "53 : ['number', 'employe', 'disa', 'global', 'solut']\n",
      "0.8451921939849854\n",
      "\n",
      "54 : ['ms', 'symptom', 'ms']\n",
      "0.27501416206359863\n",
      "\n",
      "55 : ['monk', 'mean']\n",
      "0.5649957656860352\n",
      "\n",
      "56 : ['mean', 'shebang']\n",
      "0.5858852863311768\n",
      "\n",
      "57 : ['medicin', 'toradol', 'narcot']\n",
      "0.10975432395935059\n",
      "\n",
      "58 : ['healthcar', 'iihi', 'stand']\n",
      "0.13537311553955078\n",
      "\n",
      "59 : ['much', 'passport']\n",
      "0.4303421974182129\n",
      "\n",
      "60 : ['much', 'cornstarch', 'need', 'thicken']\n",
      "1.149679183959961\n",
      "\n",
      "61 : ['mani', 'year', 'go', 'school', 'becom', 'anesthesiologist']\n",
      "2.52959942817688\n",
      "\n",
      "62 : ['mani', 'son', 'robert', 'kraft']\n",
      "0.7606887817382812\n",
      "\n",
      "63 : ['mani', 'brick', 'per', 'wall']\n",
      "1.2048907279968262\n",
      "\n",
      "64 : ['long', 'cook', 'potato', 'wedg', 'oven', 'frozen']\n",
      "0.5697038173675537\n",
      "\n",
      "65 : ['averag', 'annual', 'incom', 'data', 'analyst']\n",
      "0.9051973819732666\n",
      "\n",
      "66 : ['long', 'stay', 'contagi', 'flu']\n",
      "0.47081542015075684\n",
      "\n",
      "67 : ['long', 'cook', 'artichok']\n",
      "0.4832949638366699\n",
      "\n",
      "68 : ['long', 'hormon', 'headach', 'last']\n",
      "0.7575416564941406\n",
      "\n",
      "69 : ['vitamin', 'c', 'help']\n",
      "0.7182135581970215\n",
      "\n",
      "70 : ['granul', 'tissu', 'start']\n",
      "0.5462555885314941\n",
      "\n",
      "71 : ['hotshot', 'member']\n",
      "0.18261933326721191\n",
      "\n",
      "72 : ['holiday', 'definit']\n",
      "0.3350543975830078\n",
      "\n",
      "73 : ['head', 'basketbal', 'coach', 'texa']\n",
      "0.26717066764831543\n",
      "\n",
      "74 : ['geneva', 'il', 'median', 'sale', 'price']\n",
      "0.45840024948120117\n",
      "\n",
      "75 : ['flyover', 'definit']\n",
      "0.2981300354003906\n",
      "\n",
      "76 : ['first', 'eagl', 'credit', 'union', 'rout', 'number']\n",
      "1.5992317199707031\n",
      "\n",
      "77 : ['antibiot', 'kind', 'infect']\n",
      "0.3350365161895752\n",
      "\n",
      "78 : ['embed', 'payment', 'definit']\n",
      "0.46082592010498047\n",
      "\n",
      "79 : ['dx', 'code', 'thorac', 'outlet', 'syndrom']\n",
      "0.25858402252197266\n",
      "\n",
      "80 : ['low', 'vitamin', 'caus', 'tingl']\n",
      "0.9358210563659668\n",
      "\n",
      "81 : ['differ', 'hotel', 'motel']\n",
      "0.659308910369873\n",
      "\n",
      "82 : ['differ', 'compani', \"'s\", 'strategi', 'busi', 'model']\n",
      "3.0900914669036865\n",
      "\n",
      "83 : ['lacquer', 'brass', 'tarnish']\n",
      "0.009173393249511719\n",
      "\n",
      "84 : ['ancient', 'egyptian', 'call', 'land', 'kemet', 'black', 'land']\n",
      "1.024801254272461\n",
      "\n",
      "85 : ['defin', 'bmt', 'medic']\n",
      "0.4694352149963379\n",
      "\n",
      "86 : ['defin', 'curvilinear']\n",
      "0.146942138671875\n",
      "\n",
      "87 : ['defin', 'etruscan']\n",
      "0.15508818626403809\n",
      "\n",
      "88 : ['defin', 'prematur', 'babi']\n",
      "0.30640578269958496\n",
      "\n",
      "89 : ['definit', 'laudabl']\n",
      "0.3152592182159424\n",
      "\n",
      "90 : ['describ', 'muscl', 'bone', 'work', 'togeth', 'produc', 'movement']\n",
      "1.5687472820281982\n",
      "\n",
      "91 : ['prohibit', 'increas', 'crime']\n",
      "0.3377194404602051\n",
      "\n",
      "92 : ['googl', 'doc', 'auto', 'save']\n",
      "0.2177879810333252\n",
      "\n",
      "93 : ['ethambutol', 'treat', 'bone', 'infect']\n",
      "0.4395143985748291\n",
      "\n",
      "94 : ['mississippi', 'incom', 'tax']\n",
      "0.3372626304626465\n",
      "\n",
      "95 : ['dog', 'day', 'afternoon', 'mean']\n",
      "1.5308737754821777\n",
      "\n",
      "96 : ['drive', 'distanc', 'geneva', 'ny', 'syracus']\n",
      "0.2435612678527832\n",
      "\n",
      "97 : ['eat', 'food', 'consid', 'warm']\n",
      "0.8026454448699951\n",
      "\n",
      "98 : ['estar', 'mean']\n",
      "0.5692481994628906\n",
      "\n",
      "99 : ['group', 'edit', 'polici']\n",
      "0.46709346771240234\n",
      "\n",
      "100 : ['hotel', 'st.', 'loui', 'area']\n",
      "0.6434767246246338\n",
      "\n",
      "101 : ['bodi', 'oxid', 'alcohol', 'elimin']\n",
      "0.6263749599456787\n",
      "\n",
      "102 : ['natur', 'record', 'public', 'inform']\n",
      "1.1104297637939453\n",
      "\n",
      "103 : ['long', 'contagi', 'catch', 'cold']\n",
      "0.48018383979797363\n",
      "\n",
      "104 : ['long', 'financi', 'institut', 'keep', 'record', 'close']\n",
      "1.1630313396453857\n",
      "\n",
      "105 : ['long', 'tick', 'surviv', 'without', 'host']\n",
      "0.7238476276397705\n",
      "\n",
      "106 : ['long', 'take', 'discov', 'rais', 'limit']\n",
      "1.2831218242645264\n",
      "\n",
      "107 : ['long', 'take', 'get', 'feel', 'back', 'surgeri']\n",
      "2.2574007511138916\n",
      "\n",
      "108 : ['long', 'take', 'get', 'refund', 'petsmart']\n",
      "1.719315767288208\n",
      "\n",
      "109 : ['long', 'take', 'remov', 'wisdom', 'tooth']\n",
      "1.3213157653808594\n",
      "\n",
      "110 : ['armi', 'date', 'websit']\n",
      "0.354644775390625\n",
      "\n",
      "111 : ['long', 'methadon', 'stay', 'system']\n",
      "0.9808223247528076\n",
      "\n",
      "112 : ['much', 'caffein', 'twine', 'green', 'tea']\n",
      "0.5961318016052246\n",
      "\n",
      "113 : ['much', 'talent', 'director', 'get', 'paid', 'year']\n",
      "2.462958574295044\n",
      "\n",
      "114 : ['much', 'money', 'motiv', 'speaker', 'make']\n",
      "1.3992273807525635\n",
      "\n",
      "115 : ['much', 'weight', 'usp', 'letter']\n",
      "0.6546881198883057\n",
      "\n",
      "116 : ['much', 'would', 'cost', 'instal', 'wind', 'turbin']\n",
      "1.3966872692108154\n",
      "\n",
      "117 : ['often', 'button', 'quail', 'lay', 'egg']\n",
      "0.6027340888977051\n",
      "\n",
      "118 : ['old', 'vanessa', 'redgrav']\n",
      "0.2079477310180664\n",
      "\n",
      "119 : ['open', 'heart', 'surgeri']\n",
      "0.5592451095581055\n",
      "\n",
      "120 : ['get', 'free', 'xbox', 'one', 'card']\n",
      "2.5844688415527344\n",
      "\n",
      "121 : ['uninstal', 'xbox', 'window', '10']\n",
      "0.5755527019500732\n",
      "\n",
      "122 : ['ia', 'suffix', 'mean']\n",
      "0.6215360164642334\n",
      "\n",
      "123 : ['caffein', 'narcot']\n",
      "0.021155834197998047\n",
      "\n",
      "124 : ['averag', 'salari', 'dental', 'hygienist', 'nebraska']\n",
      "0.5974335670471191\n",
      "\n",
      "125 : ['splitboard', 'ski']\n",
      "0.010005712509155273\n",
      "\n",
      "126 : ['duodenum', 'muscl']\n",
      "0.17048859596252441\n",
      "\n",
      "127 : ['averag', 'salari', 'canada', '1985']\n",
      "0.643883228302002\n",
      "\n",
      "128 : ['landfil', 'hour']\n",
      "0.37380528450012207\n",
      "\n",
      "129 : ['largest', 'known', 'insect']\n",
      "0.6098322868347168\n",
      "\n",
      "130 : ['magnesium', 'definit', 'chemistri']\n",
      "0.3395721912384033\n",
      "\n",
      "131 : ['mean', 'tattoo', 'around', 'eye']\n",
      "1.0854382514953613\n",
      "\n",
      "132 : ['metabol', 'diseas', 'sign', 'symptom']\n",
      "0.7322845458984375\n",
      "\n",
      "133 : ['neptun', \"'s\", 'distanc', 'earth']\n",
      "1.9992737770080566\n",
      "\n",
      "134 : ['oracl', 'bind', 'variabl', 'exampl']\n"
     ]
    },
    {
     "name": "stdout",
     "output_type": "stream",
     "text": [
      "0.4984745979309082\n",
      "\n",
      "135 : ['averag', 'wed', 'dress', 'alter', 'cost']\n",
      "0.8791859149932861\n",
      "\n",
      "136 : ['project', 'definit']\n",
      "0.4269862174987793\n",
      "\n",
      "137 : ['barclay', 'fca', 'number']\n",
      "0.5474715232849121\n",
      "\n",
      "138 : ['benefit', 'polici', 'layoff']\n",
      "0.27014899253845215\n",
      "\n",
      "139 : ['hour', 'clinic']\n",
      "0.4460756778717041\n",
      "\n",
      "140 : ['symptom', 'shingl']\n",
      "0.27480006217956543\n",
      "\n",
      "141 : ['biggest', 'loser', 'challeng']\n",
      "0.09341049194335938\n",
      "\n",
      "142 : ['villag', 'burnham']\n",
      "0.038063764572143555\n",
      "\n",
      "143 : ['vitamin', 'e', 'anti', 'scar']\n",
      "0.1474909782409668\n",
      "\n",
      "144 : ['weather', 'antigua', 'novemb']\n",
      "0.18822431564331055\n",
      "\n",
      "145 : ['weather', 'novi', 'sad']\n",
      "0.142167329788208\n",
      "\n",
      "146 : ['best', 'food', 'lower', 'cholesterol']\n",
      "0.985297441482544\n",
      "\n",
      "147 : ['carvedilol', 'use']\n",
      "2.0077054500579834\n",
      "\n",
      "148 : ['caus', 'bruis', 'appear']\n",
      "0.8589925765991211\n",
      "\n",
      "149 : ['caus', 'muscl', 'tear']\n",
      "0.8229949474334717\n",
      "\n",
      "150 : ['counti', 'dexter', 'michigan']\n",
      "0.27413344383239746\n",
      "\n",
      "151 : ['counti', 'new', 'york', 'new', 'york']\n",
      "1.3285675048828125\n",
      "\n",
      "152 : ['counti', 'rio', 'hondo', 'tx']\n",
      "0.2572803497314453\n",
      "\n",
      "153 : ['mean', 'tsh', 'low']\n",
      "0.7699940204620361\n",
      "\n",
      "154 : ['ativan', 'caus', 'cough']\n",
      "0.6663882732391357\n",
      "\n",
      "155 : ['weird', 'e', 'mean', 'math']\n",
      "0.6376795768737793\n",
      "\n",
      "156 : ['zetia', 'treat']\n",
      "0.15280890464782715\n",
      "\n",
      "157 : ['drive', 'poach']\n",
      "0.14185452461242676\n",
      "\n",
      "158 : ['food', 'take', 'plane']\n",
      "0.9805037975311279\n",
      "\n",
      "159 : ['fever', 'caus', 'miscarriag', 'earli', 'pregnanc']\n",
      "0.8977012634277344\n",
      "\n",
      "160 : ['alm']\n",
      "0.0008215904235839844\n",
      "\n",
      "161 : ['statutori', 'deed']\n",
      "0.017267704010009766\n",
      "\n",
      "162 : ['torn', 'disc']\n",
      "0.02766895294189453\n",
      "\n",
      "163 : ['aid', 'hiv']\n",
      "0.0657951831817627\n",
      "\n",
      "164 : ['mbot']\n",
      "0.0003046989440917969\n",
      "\n",
      "165 : ['chronomet', 'invent']\n",
      "0.030565500259399414\n",
      "\n",
      "166 : ['cow', 'chip']\n",
      "0.03726005554199219\n",
      "\n",
      "167 : ['crimp', 'oil']\n",
      "0.14918875694274902\n",
      "\n",
      "168 : ['uti', 'caus', 'stroke']\n",
      "0.6678848266601562\n",
      "\n",
      "169 : ['mamey']\n",
      "0.0002548694610595703\n",
      "\n",
      "170 : ['onboard', 'credit', 'union']\n",
      "0.196075439453125\n",
      "\n",
      "171 : ['rsrq']\n",
      "0.0002605915069580078\n",
      "\n",
      "172 : ['scientif', 'definit', 'cytoplasm']\n",
      "0.3466455936431885\n",
      "\n",
      "173 : ['sculptur', 'shape', 'space']\n",
      "0.21418046951293945\n",
      "\n",
      "174 : ['supplement', 'secur', 'incom', 'use']\n",
      "2.3324925899505615\n",
      "\n",
      "175 : ['actor', 'color']\n",
      "0.22764825820922852\n",
      "\n",
      "176 : ['best', 'music', 'maker']\n",
      "0.5426735877990723\n",
      "\n",
      "177 : ['botan', 'name', 'mango']\n",
      "0.5757136344909668\n",
      "\n",
      "178 : ['data', 'rate', 'sdtv']\n",
      "0.5636539459228516\n",
      "\n",
      "179 : ['electr', 'field']\n",
      "0.22726964950561523\n",
      "\n",
      "180 : ['symptom', 'croup']\n",
      "0.2614409923553467\n",
      "\n",
      "181 : ['caus', 'short', 'breath', 'exert']\n",
      "0.8928472995758057\n",
      "\n",
      "182 : ['temperatur', 'venic', 'fl']\n",
      "0.260958194732666\n",
      "\n",
      "183 : ['caus', 'ga', 'larg', 'intestin']\n",
      "1.126338005065918\n",
      "\n",
      "184 : ['metal', 'hip', 'replac', 'made']\n",
      "0.635366678237915\n",
      "\n",
      "185 : ['brain', 'protein', 'caus', 'dementia']\n",
      "0.897322416305542\n",
      "\n",
      "186 : ['caus', 'stroke']\n",
      "0.6591670513153076\n",
      "\n",
      "187 : ['type', 'conflict', 'della', 'face', 'henri', 'gift', 'magi']\n",
      "0.7650341987609863\n",
      "\n",
      "188 : ['type', 'tissu', 'bronchiol']\n",
      "0.7085480690002441\n",
      "\n",
      "189 : ['chicken', 'food', 'wikipedia']\n",
      "0.4670085906982422\n",
      "\n",
      "190 : ['darwin', \"'s\", 'greatest', 'contribut', 'evolutionari', 'theori']\n",
      "2.091966390609741\n",
      "\n",
      "191 : ['famili', 'feud', 'come']\n",
      "0.6808509826660156\n",
      "\n",
      "192 : ['rock', 'n', 'roll', 'begin']\n",
      "0.4101705551147461\n",
      "\n",
      "193 : ['ace', 'hardwar', 'open']\n",
      "0.31359291076660156\n",
      "\n",
      "194 : ['berlin', 'center']\n",
      "0.2097458839416504\n",
      "\n",
      "195 : ['kampuchea']\n",
      "0.00031113624572753906\n",
      "\n",
      "196 : ['convert', 'sq', 'meter', 'sq', 'inch']\n",
      "0.27465319633483887\n",
      "\n",
      "197 : ['show', 'shameless', 'film']\n",
      "0.45772886276245117\n",
      "\n",
      "198 : ['velbert']\n",
      "0.00036334991455078125\n",
      "\n",
      "199 : ['definit', 'attempt', 'arson']\n",
      "0.3747541904449463\n",
      "\n",
      "Total time to process the queries: 126.05260562896729\n",
      "\n"
     ]
    }
   ],
   "source": [
    "process_start_time = time.time()\n",
    "\n",
    "queries_matches = []\n",
    "\n",
    "for i in range(200):\n",
    "    start_time = time.time()\n",
    "\n",
    "    print(\"{} : {}\".format(i, stemmed_queries[i]))\n",
    "    \n",
    "    queries_matches.append(find_related_documents(stemmed_queries[i]))\n",
    "\n",
    "    print(\"{}\\n\".format(time.time() - start_time))\n",
    "    \n",
    "print(\"Total time to process the queries: {}\\n\".format(time.time() - process_start_time))    "
   ]
  },
  {
   "cell_type": "code",
   "execution_count": 118,
   "id": "6d81729f",
   "metadata": {},
   "outputs": [
    {
     "data": {
      "text/plain": [
       "213"
      ]
     },
     "execution_count": 118,
     "metadata": {},
     "output_type": "execute_result"
    }
   ],
   "source": [
    "len(queries_matches[0].keys())"
   ]
  },
  {
   "cell_type": "code",
   "execution_count": 138,
   "id": "fee48c78",
   "metadata": {},
   "outputs": [
    {
     "data": {
      "text/plain": [
       "['natur', 'record', 'public', 'inform']"
      ]
     },
     "execution_count": 138,
     "metadata": {},
     "output_type": "execute_result"
    }
   ],
   "source": [
    "stemmed_queries[102]"
   ]
  },
  {
   "cell_type": "markdown",
   "id": "ef267b0d",
   "metadata": {},
   "source": [
    "### Now save the results in the TREC format"
   ]
  },
  {
   "cell_type": "code",
   "execution_count": 95,
   "id": "e2fba1ac",
   "metadata": {},
   "outputs": [],
   "source": [
    "TREC_RESULT_LINE_FORMAT=\"{}\\tQ0\\t{}\\t{}\\t{}\\tboolean\\n\""
   ]
  },
  {
   "cell_type": "code",
   "execution_count": 89,
   "id": "89312d2c",
   "metadata": {},
   "outputs": [],
   "source": [
    "MAX_RESULTS_TO_SAVE=1000"
   ]
  },
  {
   "cell_type": "code",
   "execution_count": 109,
   "id": "f6590e39",
   "metadata": {},
   "outputs": [],
   "source": [
    "def generate_trec_format(queries_matches, query_ids, output_filename, verbose=False):\n",
    "    \n",
    "    with open(output_filename, 'w') as outputFile:\n",
    "        for i, query_result in enumerate(queries_matches):\n",
    "            \n",
    "            if verbose:\n",
    "                print(\"Saving query {}\\n{}:\".format(i, query_text[i]))\n",
    "            \n",
    "            relevant_docs = np.array(list(query_result.keys()))\n",
    "            relevant_docs_scores = np.array(list(query_result.values()))\n",
    "            \n",
    "            relevant_docs_order = np.argsort(relevant_docs_scores)[::-1]\n",
    "            \n",
    "            if verbose:\n",
    "                print(\"relevant_docs.shape={}\".format(relevant_docs.shape))\n",
    "            \n",
    "            relevant_docs_final_result = relevant_docs[relevant_docs_order]\n",
    "            relevant_docs_final_score = relevant_docs_scores[relevant_docs_order]\n",
    "            \n",
    "            if verbose:\n",
    "                print(\"relevant_docs_final_result: {}\\n\\n\".format(relevant_docs_final_result))\n",
    "            \n",
    "            for j, each_match in enumerate(relevant_docs_final_result[:MAX_RESULTS_TO_SAVE]):\n",
    "                outputFile.write(TREC_RESULT_LINE_FORMAT.format(query_ids[i], each_match, j, relevant_docs_final_score[j]))"
   ]
  },
  {
   "cell_type": "code",
   "execution_count": 133,
   "id": "4e2a38b1",
   "metadata": {},
   "outputs": [],
   "source": [
    "run_filename = os.path.join(TREC_DL_2020_RUN_FOLDER, TREC_DL_2020_RUN_FORMAT.format(datetime.now().strftime(\"%Y%m%d_%H%M%S\")))"
   ]
  },
  {
   "cell_type": "code",
   "execution_count": 134,
   "id": "111739a7",
   "metadata": {
    "scrolled": true
   },
   "outputs": [],
   "source": [
    "generate_trec_format(queries_matches, query_index, run_filename)"
   ]
  },
  {
   "cell_type": "markdown",
   "id": "7b485e94",
   "metadata": {},
   "source": [
    "### Now, apply the TREC metrics"
   ]
  },
  {
   "cell_type": "code",
   "execution_count": 135,
   "id": "14a72b6a",
   "metadata": {},
   "outputs": [
    {
     "name": "stdout",
     "output_type": "stream",
     "text": [
      "map                   \tall\t0.0259\r\n",
      "recip_rank            \tall\t0.1238\r\n",
      "recall_1000           \tall\t0.2519\r\n",
      "ndcg_cut_10           \tall\t0.0538\r\n"
     ]
    }
   ],
   "source": [
    "!{TREC_EVAL_FULLPATH} -c -mrecall.1000 -mmap -mndcg_cut.10 -mrecip_rank \\\n",
    "    {TREC_DL_2020_QRELS} {run_filename}"
   ]
  },
  {
   "cell_type": "code",
   "execution_count": null,
   "id": "9a0d21bf",
   "metadata": {},
   "outputs": [],
   "source": []
  },
  {
   "cell_type": "code",
   "execution_count": null,
   "id": "03a041ca",
   "metadata": {},
   "outputs": [],
   "source": []
  },
  {
   "cell_type": "code",
   "execution_count": null,
   "id": "5173b9d2",
   "metadata": {},
   "outputs": [],
   "source": []
  }
 ],
 "metadata": {
  "kernelspec": {
   "display_name": "Python 3",
   "language": "python",
   "name": "python3"
  },
  "language_info": {
   "codemirror_mode": {
    "name": "ipython",
    "version": 3
   },
   "file_extension": ".py",
   "mimetype": "text/x-python",
   "name": "python",
   "nbconvert_exporter": "python",
   "pygments_lexer": "ipython3",
   "version": "3.8.16"
  }
 },
 "nbformat": 4,
 "nbformat_minor": 5
}
