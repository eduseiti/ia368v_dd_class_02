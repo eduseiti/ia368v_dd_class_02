{
 "cells": [
  {
   "cell_type": "markdown",
   "id": "db024de2",
   "metadata": {},
   "source": [
    "# Usando implementação BM25 do pyserini para executar as TREC-DL_2020 queries"
   ]
  },
  {
   "cell_type": "markdown",
   "id": "13b45ee7",
   "metadata": {},
   "source": [
    "Como a tarefa de **Passage Ranking** da trilha de Deep Learning da TREC 2020 utiliza o dataset **MS MARCO**, o [tutorial](https://github.com/castorini/pyserini/blob/master/docs/experiments-msmarco-passage.md) do \"MS MARCO Passage Retrieval\" descreve os passos principais que devem ser executados para a realização do item 1 do trabalho programado para a aula de 09/10/2023."
   ]
  },
  {
   "cell_type": "markdown",
   "id": "e6fa9ee4",
   "metadata": {},
   "source": [
    "Este notebook captura todos os passos executados em uma máquina local para a execução dessa tarefa."
   ]
  },
  {
   "cell_type": "markdown",
   "id": "7dfe10bf",
   "metadata": {},
   "source": [
    "## Preparação do ambiente"
   ]
  },
  {
   "cell_type": "markdown",
   "id": "06656161",
   "metadata": {},
   "source": [
    "Para a execução do [tutorial](https://github.com/castorini/pyserini/blob/master/docs/experiments-msmarco-passage.md) do \"MS MARCO Passage Retrieval\" é necessária a instalação do Pyserini e a sua dependência para buscas esparsas, o Anserini."
   ]
  },
  {
   "cell_type": "markdown",
   "id": "da8e74e8",
   "metadata": {},
   "source": [
    "### Build do Anserini"
   ]
  },
  {
   "cell_type": "markdown",
   "id": "bc31e499",
   "metadata": {},
   "source": [
    "Os passos indicados [aqui](https://github.com/castorini/anserini#-getting-started)para a instalação do Anserini funcionaram sem problemas.\n",
    "\n",
    "Algo que não está claro, entretanto, é a necessidade de definição do CLASSPATH para o .jar do Anserini, uma vez que ele foi gerado:\n",
    "\n",
    "    export ANSERINI_CLASSPATH={path-where-you-cloned}/anserini/target"
   ]
  },
  {
   "cell_type": "markdown",
   "id": "3ef823f7",
   "metadata": {},
   "source": [
    "### Instalação Pyserini"
   ]
  },
  {
   "cell_type": "markdown",
   "id": "fc5e6894",
   "metadata": {},
   "source": [
    "O [tutorial](https://github.com/castorini/pyserini/blob/master/docs/installation.md#development-installation) disponível para a instalação do Pyserini também foi suficiente para deixá-lo pronto para uso.\n",
    "\n",
    "Os scripts executados neste notebook seguem o padrão do [tutorial](https://github.com/castorini/pyserini/blob/master/docs/experiments-msmarco-passage.md) do \"MS MARCO Passage Retrieval\", sendo executados a partir da pasta do **pysernini**."
   ]
  },
  {
   "cell_type": "code",
   "execution_count": 1,
   "id": "885c201c",
   "metadata": {},
   "outputs": [],
   "source": [
    "import os"
   ]
  },
  {
   "cell_type": "code",
   "execution_count": 2,
   "id": "65e4c800",
   "metadata": {},
   "outputs": [],
   "source": [
    "PYSERINI_FOLDER=\"/media/eduseiti/bigdata01/unicamp/ia368v_dd/pyserini\""
   ]
  },
  {
   "cell_type": "code",
   "execution_count": 3,
   "id": "5ed33fda",
   "metadata": {},
   "outputs": [],
   "source": [
    "os.chdir(PYSERINI_FOLDER)"
   ]
  },
  {
   "cell_type": "markdown",
   "id": "16ec34cd",
   "metadata": {},
   "source": [
    "## Dowload do dataset MS MARCO"
   ]
  },
  {
   "cell_type": "code",
   "execution_count": 4,
   "id": "c618ea2c",
   "metadata": {},
   "outputs": [],
   "source": [
    "MSMARCO_PASSAGE_FOLDER=\"collections/msmarco-passage\""
   ]
  },
  {
   "cell_type": "code",
   "execution_count": 5,
   "id": "474680ab",
   "metadata": {},
   "outputs": [
    {
     "name": "stdout",
     "output_type": "stream",
     "text": [
      "MSMARCO Passage dataset already downloaded...\n"
     ]
    }
   ],
   "source": [
    "if os.path.exists(MSMARCO_PASSAGE_FOLDER):\n",
    "    print(\"MSMARCO Passage dataset already downloaded...\")\n",
    "else:\n",
    "    os.mkdirs(MSMARCO_PASSAGE_FOLDER)\n",
    "    os.chdir(MSMARCO_PASSAGE_FOLDER)\n",
    "\n",
    "    #### Dowload the MSMARCO dataset...\n",
    "    \n",
    "    !wget https://msmarco.blob.core.windows.net/msmarcoranking/collectionandqueries.tar.gz\n",
    "        \n",
    "    !tar -xvfz collectionandqueries.tar.gz\n",
    "\n",
    "    os.chdir(PYSERINI_FOLDER)"
   ]
  },
  {
   "cell_type": "markdown",
   "id": "33b29407",
   "metadata": {},
   "source": [
    "## Conversão do dataset MS MARCO para o formato do pyserini"
   ]
  },
  {
   "cell_type": "code",
   "execution_count": 6,
   "id": "492f4503",
   "metadata": {},
   "outputs": [],
   "source": [
    "MSMARCO_DATASET_PYSERINI_FORMAT_FOLDER=\"collection_jsonl\"\n",
    "\n",
    "msmarco_dataset_path = os.path.join(MSMARCO_PASSAGE_FOLDER, \"collection.tsv\")\n",
    "msmarco_pyserini_folder = os.path.join(MSMARCO_PASSAGE_FOLDER, MSMARCO_DATASET_PYSERINI_FORMAT_FOLDER)"
   ]
  },
  {
   "cell_type": "code",
   "execution_count": 7,
   "id": "ee138e49",
   "metadata": {},
   "outputs": [
    {
     "name": "stdout",
     "output_type": "stream",
     "text": [
      "MSMARCO Passage dataset already converted to Pyserini's format...\n"
     ]
    }
   ],
   "source": [
    "if os.path.exists(msmarco_pyserini_folder):\n",
    "    print(\"MSMARCO Passage dataset already converted to Pyserini's format...\")\n",
    "else:\n",
    "    !python3.8 tools/scripts/msmarco/convert_collection_to_jsonl.py \\\n",
    "        --collection-path {msmarco_dataset_path} \\\n",
    "        --output-folder {msmarco_pyserini_folder}"
   ]
  },
  {
   "cell_type": "markdown",
   "id": "d20031fb",
   "metadata": {},
   "source": [
    "## Indexação do dataset"
   ]
  },
  {
   "cell_type": "code",
   "execution_count": 8,
   "id": "829621ba",
   "metadata": {},
   "outputs": [],
   "source": [
    "MSMARCO_LUCENE_INDEXES_FOLDER=\"indexes/lucene-index-msmarco-passage\""
   ]
  },
  {
   "cell_type": "code",
   "execution_count": 9,
   "id": "1ab2e21d",
   "metadata": {},
   "outputs": [
    {
     "name": "stdout",
     "output_type": "stream",
     "text": [
      "MSMARCO Passage indexes already generated...\n"
     ]
    }
   ],
   "source": [
    "if os.path.exists(MSMARCO_LUCENE_INDEXES_FOLDER):\n",
    "    print(\"MSMARCO Passage indexes already generated...\")\n",
    "else:\n",
    "    !python3.8 -m pyserini.index.lucene \\\n",
    "        --collection JsonCollection \\\n",
    "        --input {msmarco_pyserini_folder} \\\n",
    "        --index {MSMARCO_LUCENE_INDEXES_FOLDER} \\\n",
    "        --generator DefaultLuceneDocumentGenerator \\\n",
    "        --threads 9 \\\n",
    "        --storePositions --storeDocvectors --storeRaw"
   ]
  },
  {
   "cell_type": "markdown",
   "id": "a0f3cff9",
   "metadata": {},
   "source": [
    "## Download das queries da tarefa de Passage Ranking do TREC-DL_2020"
   ]
  },
  {
   "cell_type": "code",
   "execution_count": 10,
   "id": "3af0b4b5",
   "metadata": {},
   "outputs": [],
   "source": [
    "TRECDL2020_QUERIES_FOLDER=\"collections/trec-dl_2020-passage\""
   ]
  },
  {
   "cell_type": "markdown",
   "id": "52ca3a76",
   "metadata": {},
   "source": [
    "### Check if need to download the TREC-DL_2020 Passage Ranking task queries"
   ]
  },
  {
   "cell_type": "code",
   "execution_count": 11,
   "id": "0a56ab89",
   "metadata": {},
   "outputs": [
    {
     "name": "stdout",
     "output_type": "stream",
     "text": [
      "TREC-DL_2020 queries already downloaded...\n"
     ]
    }
   ],
   "source": [
    "if os.path.exists(TRECDL2020_QUERIES_FOLDER):\n",
    "    print(\"TREC-DL_2020 queries already downloaded...\")\n",
    "else:\n",
    "    os.mkdirs(TRECDL2020_QUERIES_FOLDER)\n",
    "    os.chdir(TRECDL2020_QUERIES_FOLDER)\n",
    "\n",
    "    #### Dowload the TREC-DL_2020 Passage Ranking task queries...\n",
    "\n",
    "    !wget https://msmarco.blob.core.windows.net/msmarcoranking/queries.tar.gz\n",
    "    !wget https://msmarco.blob.core.windows.net/msmarcoranking/qrels.dev.tsv\n",
    "    !wget https://msmarco.blob.core.windows.net/msmarcoranking/qrels.train.tsv\n",
    "\n",
    "    !wget https://msmarco.blob.core.windows.net/msmarcoranking/msmarco-test2020-queries.tsv.gz\n",
    "\n",
    "    !tar -xvf queries.tar.gz\n",
    "\n",
    "    !gunzip msmarco-test2020-queries.tsv.gz\n",
    "\n",
    "    os.chdir(PYSERINI_FOLDER)"
   ]
  },
  {
   "cell_type": "markdown",
   "id": "bcf9331a",
   "metadata": {},
   "source": [
    "## Execução das queries"
   ]
  },
  {
   "cell_type": "code",
   "execution_count": 12,
   "id": "d10979ce",
   "metadata": {},
   "outputs": [],
   "source": [
    "from datetime import datetime"
   ]
  },
  {
   "cell_type": "code",
   "execution_count": 13,
   "id": "8e9599e0",
   "metadata": {},
   "outputs": [],
   "source": [
    "which_queries = \"msmarco-test2020-queries.tsv\"\n",
    "execution_timestamp = datetime.now().strftime(\"%Y%m%d_%H%M%S\")\n",
    "\n",
    "pyserini_runfile = \"run.trec-dl_2020-passage.bm25tuned_{}_{}.txt\".format(which_queries, execution_timestamp)\n",
    "queries_path = os.path.join(TRECDL2020_QUERIES_FOLDER, which_queries)"
   ]
  },
  {
   "cell_type": "code",
   "execution_count": 14,
   "id": "417486e4",
   "metadata": {},
   "outputs": [
    {
     "name": "stdout",
     "output_type": "stream",
     "text": [
      "Setting BM25 parameters: k1=0.82, b=0.68\n",
      "Running collections/trec-dl_2020-passage/msmarco-test2020-queries.tsv topics, saving to runs/run.trec-dl_2020-passage.bm25tuned_msmarco-test2020-queries.tsv_20230305_213031.txt...\n",
      "100%|█████████████████████████████████████████| 200/200 [00:15<00:00, 12.80it/s]\n"
     ]
    }
   ],
   "source": [
    "!python3.8 -m pyserini.search.lucene \\\n",
    "    --index indexes/lucene-index-msmarco-passage \\\n",
    "    --topics {queries_path} \\\n",
    "    --output runs/{pyserini_runfile} \\\n",
    "    --output-format trec \\\n",
    "    --hits 1000 \\\n",
    "    --bm25 --k1 0.82 --b 0.68 \\\n",
    "    --threads 8"
   ]
  },
  {
   "cell_type": "markdown",
   "id": "903b37c7",
   "metadata": {},
   "source": [
    "## Avaliando o resultado"
   ]
  },
  {
   "cell_type": "code",
   "execution_count": 15,
   "id": "b52d3ff6",
   "metadata": {},
   "outputs": [],
   "source": [
    "which_qrels = \"2020qrels-pass.txt\"\n",
    "qrels_path = os.path.join(TRECDL2020_QUERIES_FOLDER, which_qrels)"
   ]
  },
  {
   "cell_type": "code",
   "execution_count": 16,
   "id": "4fb6bc02",
   "metadata": {},
   "outputs": [
    {
     "name": "stdout",
     "output_type": "stream",
     "text": [
      "map                   \tall\t0.3470\r\n",
      "recip_rank            \tall\t0.8215\r\n",
      "recall_1000           \tall\t0.7331\r\n",
      "ndcg_cut_10           \tall\t0.4876\r\n"
     ]
    }
   ],
   "source": [
    "!tools/eval/trec_eval.9.0.4/trec_eval -c -mrecall.1000 -mmap -mndcg_cut.10 -mrecip_rank \\\n",
    "    {qrels_path} runs/{pyserini_runfile}"
   ]
  },
  {
   "cell_type": "code",
   "execution_count": null,
   "id": "4921de91",
   "metadata": {},
   "outputs": [],
   "source": []
  }
 ],
 "metadata": {
  "kernelspec": {
   "display_name": "Python 3",
   "language": "python",
   "name": "python3"
  },
  "language_info": {
   "codemirror_mode": {
    "name": "ipython",
    "version": 3
   },
   "file_extension": ".py",
   "mimetype": "text/x-python",
   "name": "python",
   "nbconvert_exporter": "python",
   "pygments_lexer": "ipython3",
   "version": "3.8.16"
  }
 },
 "nbformat": 4,
 "nbformat_minor": 5
}
