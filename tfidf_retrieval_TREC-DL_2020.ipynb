{
 "cells": [
  {
   "cell_type": "markdown",
   "id": "4fbd440d",
   "metadata": {},
   "source": [
    "# TF-IDF weighting retrieval implementation for TREC-DL 2020 Passage Ranking task"
   ]
  },
  {
   "cell_type": "code",
   "execution_count": 1,
   "id": "20e02261",
   "metadata": {},
   "outputs": [],
   "source": [
    "import nltk\n",
    "import string\n",
    "\n",
    "import re\n",
    "\n",
    "import numpy as np\n",
    "\n",
    "import time\n",
    "\n",
    "from scipy.sparse import csr_matrix, lil_matrix\n",
    "from multiprocessing import Pool\n",
    "\n",
    "import pickle\n",
    "import gc\n",
    "\n",
    "import os\n",
    "\n",
    "import scipy.sparse as scipy_sparse\n",
    "\n",
    "from datetime import datetime"
   ]
  },
  {
   "cell_type": "code",
   "execution_count": 2,
   "id": "4616ec4b",
   "metadata": {},
   "outputs": [],
   "source": [
    "MSMARCO_PASSAGE_COLLECTION=\"/mnt/0060f889-4c27-409b-b0de-47f5427515e3/unicamp/ia368v_dd/pyserini/collections/msmarco-passage/collection.tsv\"\n",
    "\n",
    "STEMMED_DOCS_FILE=\"/mnt/0060f889-4c27-409b-b0de-47f5427515e3/unicamp/ia368v_dd/ia368v_dd_class_02/indexes/tempfile.pkl\"\n",
    "\n",
    "STEMMED_DOCS_FILE_FORMAT=\"{}_{}.pkl\"\n",
    "STEMMED_DOCS_FOLDER=\"/mnt/0060f889-4c27-409b-b0de-47f5427515e3/unicamp/ia368v_dd/ia368v_dd_class_02/indexes\"\n",
    "\n",
    "REVERSED_INDEX_FOLDER=\"/mnt/0060f889-4c27-409b-b0de-47f5427515e3/unicamp/ia368v_dd/ia368v_dd_class_02/indexes\"\n",
    "REVERSED_INDEX_FILE_FORMAT=\"reversed_index_TREC-DL_2020_{}.pkl\"\n",
    "\n",
    "REVERSED_INDEX_FILE=\"/mnt/0060f889-4c27-409b-b0de-47f5427515e3/unicamp/ia368v_dd/ia368v_dd_class_02/indexes/reversed_index_TREC-DL_2020_complete.pkl\"\n",
    "\n",
    "TOKENS_COUNT_FILE=\"/mnt/0060f889-4c27-409b-b0de-47f5427515e3/unicamp/ia368v_dd/ia368v_dd_class_02/indexes/tokens_count_TREC-DL_2020.pkl\"\n",
    "\n",
    "TFIDF_FOLDER=\"/mnt/0060f889-4c27-409b-b0de-47f5427515e3/unicamp/ia368v_dd/ia368v_dd_class_02/indexes\"\n",
    "TFIDF_FILE_FORMAT=\"tfidf_TREC-DL_2020_{}.pkl\"\n",
    "\n",
    "TFIDF_FILE=\"/mnt/0060f889-4c27-409b-b0de-47f5427515e3/unicamp/ia368v_dd/ia368v_dd_class_02/indexes/tfidf_TREC-DL_2020_complete.pkl\"\n",
    "\n",
    "TREC_DL_2020_QUERIES=\"/mnt/0060f889-4c27-409b-b0de-47f5427515e3/unicamp/ia368v_dd/pyserini/collections/trec-dl_2020-passage/msmarco-test2020-queries.tsv\"\n",
    "TREC_DL_2020_QRELS=\"/mnt/0060f889-4c27-409b-b0de-47f5427515e3/unicamp/ia368v_dd/pyserini/collections/trec-dl_2020-passage/2020qrels-pass.txt\"\n",
    "\n",
    "TREC_DL_2020_RUN_FORMAT=\"TREC_DL_2020_tfidf_run_{}.tsv\"\n",
    "TREC_DL_2020_RUN_FOLDER=\"/mnt/0060f889-4c27-409b-b0de-47f5427515e3/unicamp/ia368v_dd/ia368v_dd_class_02/runs\"\n",
    "\n",
    "TREC_EVAL_FULLPATH=\"/mnt/0060f889-4c27-409b-b0de-47f5427515e3/unicamp/ia368v_dd/pyserini/tools/eval/trec_eval.9.0.4/trec_eval\"\n",
    "\n",
    "NUMBER_OF_DOCS=8841822\n",
    "\n",
    "PARTIAL_STEMMED_DOCS_COUNT=1000000\n",
    "\n",
    "PARTIAL_TFIDF_TOKENS_COUNT=500000"
   ]
  },
  {
   "cell_type": "markdown",
   "id": "e4e86b00",
   "metadata": {},
   "source": [
    "## Text preprocessing functions"
   ]
  },
  {
   "cell_type": "code",
   "execution_count": 23,
   "id": "c0a91400",
   "metadata": {},
   "outputs": [],
   "source": [
    "stop_words = set(nltk.corpus.stopwords.words('english'))\n",
    "punctuation = set(string.punctuation)\n",
    "stemmer = nltk.stem.PorterStemmer()"
   ]
  },
  {
   "cell_type": "code",
   "execution_count": 24,
   "id": "786547e5",
   "metadata": {},
   "outputs": [],
   "source": [
    "def test_preprocess_text(which_text):\n",
    "\n",
    "    all_tokens = nltk.word_tokenize(which_text.lower())\n",
    "    cleaned_tokens = [token for token in all_tokens if token not in stop_words and token not in punctuation]\n",
    "    stemmed_tokens = [stemmer.stem(token) for token in cleaned_tokens]\n",
    "\n",
    "    return stemmed_tokens"
   ]
  },
  {
   "cell_type": "markdown",
   "id": "25c984e1",
   "metadata": {},
   "source": [
    "## If has already computed the tf-idf values, load then..."
   ]
  },
  {
   "cell_type": "code",
   "execution_count": null,
   "id": "7ed4baf3",
   "metadata": {},
   "outputs": [],
   "source": [
    "with open(TFIDF_FILE, 'rb') as inputFile:\n",
    "    all_tfidfs = pickle.load(inputFile)"
   ]
  },
  {
   "cell_type": "markdown",
   "id": "7cfcbb98",
   "metadata": {},
   "source": [
    "## ...otherwise, compute the td-idf of each document in the corpus\n",
    "\n",
    "Since we already have the reversed index built on the same corpus with the terms count in each document (this was done in the [boolean retrieval notebook](https://github.com/eduseiti/ia368v_dd_class_02/blob/main/boolean_retrieval_TREC-DL_2020.ipynb)), we can leverage that to compute the tf-idf or each document.\n",
    "\n",
    "However, we don't have in hand the total number of terms/tokens for each document. Hence, need to compute it first."
   ]
  },
  {
   "cell_type": "markdown",
   "id": "8bc13275",
   "metadata": {},
   "source": [
    "### If has already computed the total number of tokens in each document, read that information...."
   ]
  },
  {
   "cell_type": "code",
   "execution_count": 3,
   "id": "22816b09",
   "metadata": {},
   "outputs": [],
   "source": [
    "with open(TOKENS_COUNT_FILE, 'rb') as inputFile:\n",
    "    tokens_per_document = pickle.load(inputFile)"
   ]
  },
  {
   "cell_type": "markdown",
   "id": "68deaf7a",
   "metadata": {},
   "source": [
    "### ...otherwise, start computing it\n",
    "\n",
    "Once again, we will build on the results of the [boolean retrieval notebook](https://github.com/eduseiti/ia368v_dd_class_02/blob/main/boolean_retrieval_TREC-DL_2020.ipynb)."
   ]
  },
  {
   "cell_type": "code",
   "execution_count": null,
   "id": "655c6cde",
   "metadata": {},
   "outputs": [],
   "source": [
    "def compute_total_number_of_terms_per_document(file_index):\n",
    "    \n",
    "    total_number_of_terms = {}\n",
    "    \n",
    "    with open(os.path.join(STEMMED_DOCS_FOLDER, STEMMED_DOCS_FILE_FORMAT.format(\"temp\", file_index)), \"rb\") as inputFile:\n",
    "        temp_file = pickle.load(inputFile)\n",
    "\n",
    "        read_documents_index = temp_file['doc_ids']\n",
    "        stemmed_documents = temp_file['stemmed_docs']                \n",
    "\n",
    "    print(\"Document range: {} until {}\".format(read_documents_index[0], read_documents_index[-1]))\n",
    "    \n",
    "    for doc_index in range(len(stemmed_documents)):\n",
    "        total_number_of_terms[int(read_documents_index[doc_index])] = len(stemmed_documents[doc_index])\n",
    "    \n",
    "    return total_number_of_terms"
   ]
  },
  {
   "cell_type": "code",
   "execution_count": null,
   "id": "f2834461",
   "metadata": {},
   "outputs": [],
   "source": [
    "with Pool(processes=3) as pool:\n",
    "    terms_count = pool.map(compute_total_number_of_terms_per_document, range(0, NUMBER_OF_DOCS // PARTIAL_STEMMED_DOCS_COUNT + 1))"
   ]
  },
  {
   "cell_type": "markdown",
   "id": "71c6ba2a",
   "metadata": {},
   "source": [
    "### Merge into a single dictionary"
   ]
  },
  {
   "cell_type": "code",
   "execution_count": null,
   "id": "219c80db",
   "metadata": {},
   "outputs": [],
   "source": [
    "tokens_per_document = terms_count[0]\n",
    "\n",
    "for partial_dic in terms_count[1:]:\n",
    "    for document, count in partial_dic.items():\n",
    "        tokens_per_document[document] = count"
   ]
  },
  {
   "cell_type": "code",
   "execution_count": null,
   "id": "72dd3ca7",
   "metadata": {},
   "outputs": [],
   "source": [
    "len(tokens_per_document)"
   ]
  },
  {
   "cell_type": "code",
   "execution_count": null,
   "id": "383ff84e",
   "metadata": {},
   "outputs": [],
   "source": [
    "del terms_count"
   ]
  },
  {
   "cell_type": "code",
   "execution_count": null,
   "id": "1015f77b",
   "metadata": {},
   "outputs": [],
   "source": [
    "with open(TOKENS_COUNT_FILE, 'wb') as outputFile:\n",
    "    pickle.dump(tokens_per_document, outputFile, pickle.HIGHEST_PROTOCOL)"
   ]
  },
  {
   "cell_type": "markdown",
   "id": "e1ec956d",
   "metadata": {},
   "source": [
    "### Load the reversed index to get the term counts per document"
   ]
  },
  {
   "cell_type": "code",
   "execution_count": 4,
   "id": "4ace6db0",
   "metadata": {},
   "outputs": [],
   "source": [
    "with open(REVERSED_INDEX_FILE, 'rb') as inputFile:\n",
    "    reversed_indexes = pickle.load(inputFile)"
   ]
  },
  {
   "cell_type": "markdown",
   "id": "ed959a4a",
   "metadata": {},
   "source": [
    "### Now, process each term to compute the related documents tf-idf value\n",
    "\n",
    "Once again, due to RAM limitations, the processing will first create partial tfidf file which will be concatenated after."
   ]
  },
  {
   "cell_type": "code",
   "execution_count": 5,
   "id": "f990324d",
   "metadata": {},
   "outputs": [],
   "source": [
    "def compute_tfidf(token, verbose=False):\n",
    "    \n",
    "    token_tdidfs = lil_matrix((1, NUMBER_OF_DOCS), dtype=np.float32)\n",
    "    \n",
    "    related_docs = reversed_indexes[token].nonzero()\n",
    "    \n",
    "    if verbose:\n",
    "        print(related_docs)\n",
    "    \n",
    "    if type(reversed_indexes[token]) is scipy_sparse._csr.csr_matrix:\n",
    "        related_docs_counts = np.array(reversed_indexes[token][related_docs])[0]\n",
    "    else:\n",
    "        related_docs_counts = np.array(reversed_indexes[token][related_docs].todense())[0]\n",
    "\n",
    "    if verbose:\n",
    "        print(related_docs_counts)\n",
    "\n",
    "    term_idf = np.log10(NUMBER_OF_DOCS / len(related_docs[1]))\n",
    "\n",
    "    if verbose:\n",
    "        print(term_idf)\n",
    "    \n",
    "    for i, doc in enumerate(related_docs[1]):\n",
    "        \n",
    "        if verbose:\n",
    "            print(\"i={}, doc={}\".format(i, doc))\n",
    "        \n",
    "        doc_tf = related_docs_counts[i] / tokens_per_document[doc]\n",
    "        \n",
    "        if verbose:\n",
    "            print(doc_tf)\n",
    "        \n",
    "        token_tdidfs[0, doc] = doc_tf * term_idf\n",
    "        \n",
    "    return token_tdidfs.tocsr()"
   ]
  },
  {
   "cell_type": "code",
   "execution_count": 6,
   "id": "31d1557f",
   "metadata": {},
   "outputs": [],
   "source": [
    "def compute_tfidfs_for_tokens(tokens_list, part_index):\n",
    "    \n",
    "    print(\"len(tokens_list)={}, part_index={}\".format(len(tokens_list), part_index))\n",
    "    \n",
    "    computed_tfidfs = {}\n",
    "    \n",
    "    for token in tokens_list:\n",
    "        computed_tfidfs[token] = compute_tfidf(token)\n",
    "        \n",
    "    with open(os.path.join(TFIDF_FOLDER, TFIDF_FILE_FORMAT.format(part_index)), 'wb') as outputFile:\n",
    "        pickle.dump(computed_tfidfs, outputFile, pickle.HIGHEST_PROTOCOL)\n",
    "        \n",
    "    return True"
   ]
  },
  {
   "cell_type": "code",
   "execution_count": 7,
   "id": "e276825c",
   "metadata": {},
   "outputs": [],
   "source": [
    "all_tokens = list(reversed_indexes.keys())"
   ]
  },
  {
   "cell_type": "code",
   "execution_count": 8,
   "id": "f44bf2b9",
   "metadata": {},
   "outputs": [
    {
     "data": {
      "text/plain": [
       "3750155"
      ]
     },
     "execution_count": 8,
     "metadata": {},
     "output_type": "execute_result"
    }
   ],
   "source": [
    "len(all_tokens)"
   ]
  },
  {
   "cell_type": "markdown",
   "id": "fc6fe3a3",
   "metadata": {},
   "source": [
    "### Break the existing tokens set into chunks...."
   ]
  },
  {
   "cell_type": "code",
   "execution_count": 9,
   "id": "d3a3c756",
   "metadata": {},
   "outputs": [],
   "source": [
    "token_groups = []\n",
    "\n",
    "for i in range(len(reversed_indexes) // PARTIAL_TFIDF_TOKENS_COUNT + 1):\n",
    "    token_groups.append(all_tokens[i * PARTIAL_TFIDF_TOKENS_COUNT:(i * PARTIAL_TFIDF_TOKENS_COUNT + PARTIAL_TFIDF_TOKENS_COUNT)])"
   ]
  },
  {
   "cell_type": "markdown",
   "id": "40a6471a",
   "metadata": {},
   "source": [
    "### ...and process them in parallel"
   ]
  },
  {
   "cell_type": "code",
   "execution_count": 10,
   "id": "5e1631e5",
   "metadata": {},
   "outputs": [
    {
     "name": "stdout",
     "output_type": "stream",
     "text": [
      "len(tokens_list)=500000, part_index=0\n",
      "len(tokens_list)=500000, part_index=1\n",
      "len(tokens_list)=500000, part_index=2\n",
      "len(tokens_list)=500000, part_index=3\n",
      "len(tokens_list)=500000, part_index=4\n",
      "len(tokens_list)=500000, part_index=5\n",
      "len(tokens_list)=500000, part_index=6\n",
      "len(tokens_list)=250155, part_index=7\n",
      "1676.556004524231\n"
     ]
    }
   ],
   "source": [
    "start_time=time.time()\n",
    "\n",
    "with Pool(processes=2) as pool:\n",
    "    results = pool.starmap(compute_tfidfs_for_tokens, zip(token_groups, range(len(token_groups))))\n",
    "    \n",
    "print(time.time() - start_time)"
   ]
  },
  {
   "cell_type": "code",
   "execution_count": 11,
   "id": "5a5ba9df",
   "metadata": {},
   "outputs": [],
   "source": [
    "del reversed_indexes"
   ]
  },
  {
   "cell_type": "code",
   "execution_count": 13,
   "id": "6f79ec88",
   "metadata": {},
   "outputs": [],
   "source": [
    "del all_tokens"
   ]
  },
  {
   "cell_type": "code",
   "execution_count": 15,
   "id": "c996507f",
   "metadata": {},
   "outputs": [
    {
     "data": {
      "text/plain": [
       "327"
      ]
     },
     "execution_count": 15,
     "metadata": {},
     "output_type": "execute_result"
    }
   ],
   "source": [
    "gc.collect()"
   ]
  },
  {
   "cell_type": "markdown",
   "id": "61e41fae",
   "metadata": {},
   "source": [
    "### Now merge the partial tfidfs"
   ]
  },
  {
   "cell_type": "code",
   "execution_count": 16,
   "id": "a2ee5422",
   "metadata": {},
   "outputs": [],
   "source": [
    "with open(os.path.join(TFIDF_FOLDER, TFIDF_FILE_FORMAT.format(0)), 'rb') as inputFile:\n",
    "    all_tfidfs = pickle.load(inputFile)"
   ]
  },
  {
   "cell_type": "code",
   "execution_count": 17,
   "id": "6d2ed54c",
   "metadata": {},
   "outputs": [],
   "source": [
    "for i in range(1, 8):\n",
    "    with open(os.path.join(TFIDF_FOLDER, TFIDF_FILE_FORMAT.format(i)), 'rb') as inputFile:\n",
    "        partial_tfidfs = pickle.load(inputFile)\n",
    "        \n",
    "    for token, token_docs in partial_tfidfs.items():\n",
    "        all_tfidfs[token] = token_docs"
   ]
  },
  {
   "cell_type": "code",
   "execution_count": 18,
   "id": "5f3256c6",
   "metadata": {},
   "outputs": [
    {
     "data": {
      "text/plain": [
       "3750155"
      ]
     },
     "execution_count": 18,
     "metadata": {},
     "output_type": "execute_result"
    }
   ],
   "source": [
    "len(all_tfidfs)"
   ]
  },
  {
   "cell_type": "code",
   "execution_count": 19,
   "id": "33812ce9",
   "metadata": {},
   "outputs": [],
   "source": [
    "with open(TFIDF_FILE, 'wb') as outputFile:\n",
    "    pickle.dump(all_tfidfs, outputFile, pickle.HIGHEST_PROTOCOL)"
   ]
  },
  {
   "cell_type": "markdown",
   "id": "32b45800",
   "metadata": {},
   "source": [
    "## Run the queries"
   ]
  },
  {
   "cell_type": "code",
   "execution_count": 20,
   "id": "fdd50482",
   "metadata": {},
   "outputs": [],
   "source": [
    "query_index = []\n",
    "query_text = []"
   ]
  },
  {
   "cell_type": "markdown",
   "id": "eb1992a0",
   "metadata": {},
   "source": [
    "### Read all the queries in memory"
   ]
  },
  {
   "cell_type": "code",
   "execution_count": 21,
   "id": "e0dd0cbc",
   "metadata": {},
   "outputs": [
    {
     "data": {
      "text/plain": [
       "200"
      ]
     },
     "execution_count": 21,
     "metadata": {},
     "output_type": "execute_result"
    }
   ],
   "source": [
    "with open(TREC_DL_2020_QUERIES, 'r', encoding=\"utf-8\") as inputFile:\n",
    "    for line in inputFile:\n",
    "        query_data = line.split('\\t')\n",
    "        \n",
    "        query_index.append(query_data[0])\n",
    "        query_text.append(query_data[1])\n",
    "\n",
    "len(query_text)"
   ]
  },
  {
   "cell_type": "markdown",
   "id": "67f7e875",
   "metadata": {},
   "source": [
    "### Preprocess the queries the same way as the documents"
   ]
  },
  {
   "cell_type": "code",
   "execution_count": 25,
   "id": "2d725cee",
   "metadata": {},
   "outputs": [
    {
     "data": {
      "text/plain": [
       "200"
      ]
     },
     "execution_count": 25,
     "metadata": {},
     "output_type": "execute_result"
    }
   ],
   "source": [
    "with Pool(processes=8) as pool:\n",
    "    stemmed_queries = pool.map(test_preprocess_text, query_text)\n",
    "\n",
    "len(stemmed_queries)"
   ]
  },
  {
   "cell_type": "markdown",
   "id": "e24be0e4",
   "metadata": {},
   "source": [
    "### Find the query matches\n",
    "\n",
    "Here each query/document score will be computed summing all the tf-idf values of the query/document common terms. This is the [tf-idf weighting scheme](https://nlp.stanford.edu/IR-book/html/htmledition/tf-idf-weighting-1.html#:~:text=The%20tf%2Didf%20weighting%20scheme,power%20to%20those%20documents)."
   ]
  },
  {
   "cell_type": "code",
   "execution_count": 26,
   "id": "873d5c77",
   "metadata": {},
   "outputs": [],
   "source": [
    "def find_related_documents(stemmed_query, only_all_terms=False):\n",
    "    \n",
    "    related_documents = {}\n",
    "    \n",
    "    for token in stemmed_query:\n",
    "        if token in all_tfidfs:\n",
    "            \n",
    "#             print(token)\n",
    "            \n",
    "            related_docs = all_tfidfs[token].nonzero()\n",
    "            \n",
    "            if type(all_tfidfs[token]) is scipy_sparse._csr.csr_matrix:\n",
    "                related_docs_scores = np.array(all_tfidfs[token][related_docs])[0]\n",
    "            else:\n",
    "                related_docs_scores = np.array(all_tfidfs[token][related_docs].todense())[0]\n",
    "            \n",
    "            for i, doc in enumerate(related_docs[1]):\n",
    "                if doc not in related_documents:\n",
    "                    related_documents[doc] = 0\n",
    "\n",
    "                related_documents[doc] += related_docs_scores[i]\n",
    "            \n",
    "    return related_documents"
   ]
  },
  {
   "cell_type": "code",
   "execution_count": 27,
   "id": "d517ecef",
   "metadata": {
    "scrolled": true
   },
   "outputs": [
    {
     "name": "stdout",
     "output_type": "stream",
     "text": [
      "0 : ['aziz', 'hashim']\n",
      "0.007018566131591797\n",
      "\n",
      "1 : ['rep', 'scalis']\n",
      "0.009361982345581055\n",
      "\n",
      "2 : ['kill', 'nichola', 'ii', 'russia']\n",
      "0.18786287307739258\n",
      "\n",
      "3 : ['own', 'barnhart', 'crane']\n",
      "0.06454944610595703\n",
      "\n",
      "4 : ['said', 'one', 'make', 'feel', 'inferior']\n",
      "3.1322460174560547\n",
      "\n",
      "5 : ['sing', 'monk', 'theme', 'song']\n",
      "0.14347076416015625\n",
      "\n",
      "6 : ['highest', 'career', 'passer', 'rate', 'nfl']\n",
      "0.6372008323669434\n",
      "\n",
      "7 : ['hunter', 'pattern', 'shotgun']\n",
      "0.08426856994628906\n",
      "\n",
      "8 : ['place', 'scalp', 'feel', 'sore']\n",
      "0.7669088840484619\n",
      "\n",
      "9 : ['pete', 'rose', 'ban', 'hall', 'fame']\n",
      "0.10417008399963379\n",
      "\n",
      "10 : ['thoma', 'cooley']\n",
      "0.0345611572265625\n",
      "\n",
      "11 : ['definit', 'endors']\n",
      "0.374706506729126\n",
      "\n",
      "12 : ['hormon', 'increas', 'calcium', 'level', 'blood']\n",
      "1.195464849472046\n",
      "\n",
      "13 : ['defin', 'geon']\n",
      "0.17954468727111816\n",
      "\n",
      "14 : ['amazon', 'rainforest', 'locat']\n",
      "0.5901432037353516\n",
      "\n",
      "15 : ['four', 'forc', 'act', 'airplan', 'equilibrium']\n",
      "0.6663906574249268\n",
      "\n",
      "16 : ['defin', 'pareto', 'chart', 'statist']\n",
      "0.33734774589538574\n",
      "\n",
      "17 : ['year', 'timberwolv', 'found']\n",
      "1.7650623321533203\n",
      "\n",
      "18 : ['year', 'knee', 'deep', 'come', 'funkadel']\n",
      "1.8353965282440186\n",
      "\n",
      "19 : ['defin', 'defin', 'gallow']\n",
      "0.24106407165527344\n",
      "\n",
      "20 : ['tissu', 'compos', 'hypodermi']\n",
      "0.228956937789917\n",
      "\n",
      "21 : ['time', 'zone', 'st', 'paul', 'minnesota']\n",
      "1.454637050628662\n",
      "\n",
      "22 : ['best', 'way', 'get', 'cloth', 'white']\n",
      "2.3663525581359863\n",
      "\n",
      "23 : ['temperatur', 'humid', 'dri', 'sausag']\n",
      "0.46432971954345703\n",
      "\n",
      "24 : ['mental', 'ill']\n",
      "0.13206839561462402\n",
      "\n",
      "25 : ['medium', 'radio', 'wave', 'travel']\n",
      "0.34844040870666504\n",
      "\n",
      "26 : ['languag', 'craith', 'film']\n",
      "0.2675623893737793\n",
      "\n",
      "27 : ['un', 'fao']\n",
      "0.00995635986328125\n",
      "\n",
      "28 : ['distanc', 'flat', 'rock', 'michigan', 'detroit', 'michigan']\n",
      "0.3374042510986328\n",
      "\n",
      "29 : ['shakespear', \"'s\", 'theatr', 'call']\n",
      "2.993987798690796\n",
      "\n",
      "30 : ['reba', 'mcentir', \"'s\", 'net', 'worth']\n",
      "2.487776041030884\n",
      "\n",
      "31 : ['call', 'blood', 'becom', 'thin']\n",
      "1.5915260314941406\n",
      "\n",
      "32 : ['meat', 'group']\n",
      "0.4883558750152588\n",
      "\n",
      "33 : ['conform', 'definit']\n",
      "0.4394550323486328\n",
      "\n",
      "34 : ['chaff', 'flare']\n",
      "0.008559465408325195\n",
      "\n",
      "35 : ['nonconform', 'earth', 'scienc']\n",
      "0.24192500114440918\n",
      "\n",
      "36 : ['unauthor', 'act', 'write', 'mean']\n",
      "1.072460412979126\n",
      "\n",
      "37 : ['word', 'potteri', 'mean']\n",
      "0.9505844116210938\n",
      "\n",
      "38 : ['provis', 'mean']\n",
      "0.7102971076965332\n",
      "\n",
      "39 : ['plank', 'owner', 'mean']\n",
      "0.7827293872833252\n",
      "\n",
      "40 : ['distraint', 'mean']\n",
      "0.676720142364502\n",
      "\n",
      "41 : ['psycholog', 'screen', 'consist', 'egg', 'donor']\n",
      "0.437532901763916\n",
      "\n",
      "42 : ['cari', 'detect', 'system']\n",
      "0.6783864498138428\n",
      "\n",
      "43 : ['discrimin', 'workplac', 'oklahoma', 'citi']\n",
      "0.44595861434936523\n",
      "\n",
      "44 : ['major', 'polit', 'parti', 'great', 'britain', 'select', 'appli']\n",
      "1.2734363079071045\n",
      "\n",
      "45 : ['symptom', 'kid']\n",
      "0.3742835521697998\n",
      "\n",
      "46 : ['amino', 'produc', 'carnitin']\n",
      "0.36713719367980957\n",
      "\n",
      "47 : ['adob', 'need', 'creat', 'extern', 'link', 'pdf', 'document']\n",
      "1.5878169536590576\n",
      "\n",
      "48 : ['walmart', 'phone', 'number', 'linton']\n",
      "0.7908291816711426\n",
      "\n",
      "49 : ['briefli', 'describ', 'lung', 'function']\n",
      "0.525141716003418\n",
      "\n",
      "50 : ['rout', 'number', 'save', 'bank', 'main']\n",
      "1.216402530670166\n",
      "\n",
      "51 : ['reign', 'definit']\n",
      "0.36451220512390137\n",
      "\n",
      "52 : ['outmaneuv', 'definit']\n",
      "0.35744714736938477\n",
      "\n",
      "53 : ['number', 'employe', 'disa', 'global', 'solut']\n",
      "1.0066649913787842\n",
      "\n",
      "54 : ['ms', 'symptom', 'ms']\n",
      "0.32903504371643066\n",
      "\n",
      "55 : ['monk', 'mean']\n",
      "0.6890773773193359\n",
      "\n",
      "56 : ['mean', 'shebang']\n",
      "0.6864533424377441\n",
      "\n",
      "57 : ['medicin', 'toradol', 'narcot']\n",
      "0.12169909477233887\n",
      "\n",
      "58 : ['healthcar', 'iihi', 'stand']\n",
      "0.1632382869720459\n",
      "\n",
      "59 : ['much', 'passport']\n",
      "0.515068531036377\n",
      "\n",
      "60 : ['much', 'cornstarch', 'need', 'thicken']\n",
      "1.3481698036193848\n",
      "\n",
      "61 : ['mani', 'year', 'go', 'school', 'becom', 'anesthesiologist']\n",
      "3.033588409423828\n",
      "\n",
      "62 : ['mani', 'son', 'robert', 'kraft']\n",
      "0.9218573570251465\n",
      "\n",
      "63 : ['mani', 'brick', 'per', 'wall']\n",
      "1.4543933868408203\n",
      "\n",
      "64 : ['long', 'cook', 'potato', 'wedg', 'oven', 'frozen']\n",
      "0.7216579914093018\n",
      "\n",
      "65 : ['averag', 'annual', 'incom', 'data', 'analyst']\n",
      "1.0894970893859863\n",
      "\n",
      "66 : ['long', 'stay', 'contagi', 'flu']\n",
      "0.5725722312927246\n",
      "\n",
      "67 : ['long', 'cook', 'artichok']\n",
      "0.5792279243469238\n",
      "\n",
      "68 : ['long', 'hormon', 'headach', 'last']\n",
      "0.9054548740386963\n",
      "\n",
      "69 : ['vitamin', 'c', 'help']\n",
      "0.8445954322814941\n",
      "\n",
      "70 : ['granul', 'tissu', 'start']\n",
      "0.6440885066986084\n",
      "\n",
      "71 : ['hotshot', 'member']\n",
      "0.22005414962768555\n",
      "\n",
      "72 : ['holiday', 'definit']\n",
      "0.4028506278991699\n",
      "\n",
      "73 : ['head', 'basketbal', 'coach', 'texa']\n",
      "0.3166327476501465\n",
      "\n",
      "74 : ['geneva', 'il', 'median', 'sale', 'price']\n",
      "0.5421972274780273\n",
      "\n",
      "75 : ['flyover', 'definit']\n",
      "0.35387301445007324\n",
      "\n",
      "76 : ['first', 'eagl', 'credit', 'union', 'rout', 'number']\n",
      "1.8925669193267822\n",
      "\n",
      "77 : ['antibiot', 'kind', 'infect']\n",
      "0.39777445793151855\n",
      "\n",
      "78 : ['embed', 'payment', 'definit']\n",
      "0.5086517333984375\n",
      "\n",
      "79 : ['dx', 'code', 'thorac', 'outlet', 'syndrom']\n",
      "0.3010561466217041\n",
      "\n",
      "80 : ['low', 'vitamin', 'caus', 'tingl']\n",
      "1.1483495235443115\n",
      "\n",
      "81 : ['differ', 'hotel', 'motel']\n",
      "0.8197734355926514\n",
      "\n",
      "82 : ['differ', 'compani', \"'s\", 'strategi', 'busi', 'model']\n",
      "3.632396936416626\n",
      "\n",
      "83 : ['lacquer', 'brass', 'tarnish']\n",
      "0.011260032653808594\n",
      "\n",
      "84 : ['ancient', 'egyptian', 'call', 'land', 'kemet', 'black', 'land']\n",
      "1.3107099533081055\n",
      "\n",
      "85 : ['defin', 'bmt', 'medic']\n",
      "0.5487542152404785\n",
      "\n",
      "86 : ['defin', 'curvilinear']\n",
      "0.19912242889404297\n",
      "\n",
      "87 : ['defin', 'etruscan']\n",
      "0.18247318267822266\n",
      "\n",
      "88 : ['defin', 'prematur', 'babi']\n",
      "0.3569655418395996\n",
      "\n",
      "89 : ['definit', 'laudabl']\n",
      "0.4013803005218506\n",
      "\n",
      "90 : ['describ', 'muscl', 'bone', 'work', 'togeth', 'produc', 'movement']\n",
      "1.8628818988800049\n",
      "\n",
      "91 : ['prohibit', 'increas', 'crime']\n",
      "0.4072854518890381\n",
      "\n",
      "92 : ['googl', 'doc', 'auto', 'save']\n",
      "0.2595539093017578\n",
      "\n",
      "93 : ['ethambutol', 'treat', 'bone', 'infect']\n",
      "0.5103485584259033\n",
      "\n",
      "94 : ['mississippi', 'incom', 'tax']\n",
      "0.3532297611236572\n",
      "\n",
      "95 : ['dog', 'day', 'afternoon', 'mean']\n",
      "1.6836910247802734\n",
      "\n",
      "96 : ['drive', 'distanc', 'geneva', 'ny', 'syracus']\n",
      "0.28696537017822266\n",
      "\n",
      "97 : ['eat', 'food', 'consid', 'warm']\n",
      "0.986255407333374\n",
      "\n",
      "98 : ['estar', 'mean']\n",
      "0.7053995132446289\n",
      "\n",
      "99 : ['group', 'edit', 'polici']\n",
      "0.5693323612213135\n",
      "\n",
      "100 : ['hotel', 'st.', 'loui', 'area']\n",
      "0.6986339092254639\n",
      "\n",
      "101 : ['bodi', 'oxid', 'alcohol', 'elimin']\n",
      "0.7282669544219971\n",
      "\n",
      "102 : ['natur', 'record', 'public', 'inform']\n",
      "1.3408303260803223\n",
      "\n",
      "103 : ['long', 'contagi', 'catch', 'cold']\n",
      "0.5857598781585693\n",
      "\n",
      "104 : ['long', 'financi', 'institut', 'keep', 'record', 'close']\n",
      "1.3996267318725586\n",
      "\n",
      "105 : ['long', 'tick', 'surviv', 'without', 'host']\n",
      "0.8467495441436768\n",
      "\n",
      "106 : ['long', 'take', 'discov', 'rais', 'limit']\n",
      "1.5293195247650146\n",
      "\n",
      "107 : ['long', 'take', 'get', 'feel', 'back', 'surgeri']\n",
      "2.6454107761383057\n",
      "\n",
      "108 : ['long', 'take', 'get', 'refund', 'petsmart']\n",
      "2.0607006549835205\n",
      "\n",
      "109 : ['long', 'take', 'remov', 'wisdom', 'tooth']\n",
      "1.4548602104187012\n",
      "\n",
      "110 : ['armi', 'date', 'websit']\n",
      "0.4210057258605957\n",
      "\n",
      "111 : ['long', 'methadon', 'stay', 'system']\n",
      "1.1928462982177734\n",
      "\n",
      "112 : ['much', 'caffein', 'twine', 'green', 'tea']\n",
      "0.7477984428405762\n",
      "\n",
      "113 : ['much', 'talent', 'director', 'get', 'paid', 'year']\n",
      "2.879591226577759\n",
      "\n",
      "114 : ['much', 'money', 'motiv', 'speaker', 'make']\n",
      "1.9184224605560303\n",
      "\n",
      "115 : ['much', 'weight', 'usp', 'letter']\n",
      "0.8710999488830566\n",
      "\n",
      "116 : ['much', 'would', 'cost', 'instal', 'wind', 'turbin']\n",
      "1.724731683731079\n",
      "\n",
      "117 : ['often', 'button', 'quail', 'lay', 'egg']\n",
      "0.7320327758789062\n",
      "\n",
      "118 : ['old', 'vanessa', 'redgrav']\n",
      "0.29712343215942383\n",
      "\n",
      "119 : ['open', 'heart', 'surgeri']\n",
      "0.6918737888336182\n",
      "\n",
      "120 : ['get', 'free', 'xbox', 'one', 'card']\n",
      "3.189084529876709\n",
      "\n",
      "121 : ['uninstal', 'xbox', 'window', '10']\n",
      "0.7135591506958008\n",
      "\n",
      "122 : ['ia', 'suffix', 'mean']\n",
      "0.7567040920257568\n",
      "\n",
      "123 : ['caffein', 'narcot']\n",
      "0.02776503562927246\n",
      "\n",
      "124 : ['averag', 'salari', 'dental', 'hygienist', 'nebraska']\n",
      "0.7362096309661865\n",
      "\n",
      "125 : ['splitboard', 'ski']\n",
      "0.011727333068847656\n",
      "\n",
      "126 : ['duodenum', 'muscl']\n",
      "0.2578856945037842\n",
      "\n",
      "127 : ['averag', 'salari', 'canada', '1985']\n",
      "0.8394694328308105\n",
      "\n",
      "128 : ['landfil', 'hour']\n",
      "0.48956894874572754\n",
      "\n",
      "129 : ['largest', 'known', 'insect']\n",
      "0.8170270919799805\n",
      "\n",
      "130 : ['magnesium', 'definit', 'chemistri']\n",
      "0.4232020378112793\n",
      "\n",
      "131 : ['mean', 'tattoo', 'around', 'eye']\n",
      "1.3257348537445068\n",
      "\n",
      "132 : ['metabol', 'diseas', 'sign', 'symptom']\n",
      "0.8871045112609863\n",
      "\n",
      "133 : ['neptun', \"'s\", 'distanc', 'earth']\n",
      "2.4006686210632324\n",
      "\n",
      "134 : ['oracl', 'bind', 'variabl', 'exampl']\n"
     ]
    },
    {
     "name": "stdout",
     "output_type": "stream",
     "text": [
      "0.6068778038024902\n",
      "\n",
      "135 : ['averag', 'wed', 'dress', 'alter', 'cost']\n",
      "1.0542082786560059\n",
      "\n",
      "136 : ['project', 'definit']\n",
      "0.524193286895752\n",
      "\n",
      "137 : ['barclay', 'fca', 'number']\n",
      "0.6811261177062988\n",
      "\n",
      "138 : ['benefit', 'polici', 'layoff']\n",
      "0.3353128433227539\n",
      "\n",
      "139 : ['hour', 'clinic']\n",
      "0.5566520690917969\n",
      "\n",
      "140 : ['symptom', 'shingl']\n",
      "0.3327372074127197\n",
      "\n",
      "141 : ['biggest', 'loser', 'challeng']\n",
      "0.1307082176208496\n",
      "\n",
      "142 : ['villag', 'burnham']\n",
      "0.04504799842834473\n",
      "\n",
      "143 : ['vitamin', 'e', 'anti', 'scar']\n",
      "0.1783740520477295\n",
      "\n",
      "144 : ['weather', 'antigua', 'novemb']\n",
      "0.2709076404571533\n",
      "\n",
      "145 : ['weather', 'novi', 'sad']\n",
      "0.17457079887390137\n",
      "\n",
      "146 : ['best', 'food', 'lower', 'cholesterol']\n",
      "1.220409631729126\n",
      "\n",
      "147 : ['carvedilol', 'use']\n",
      "2.4587414264678955\n",
      "\n",
      "148 : ['caus', 'bruis', 'appear']\n",
      "1.0553312301635742\n",
      "\n",
      "149 : ['caus', 'muscl', 'tear']\n",
      "1.0187022686004639\n",
      "\n",
      "150 : ['counti', 'dexter', 'michigan']\n",
      "0.32584428787231445\n",
      "\n",
      "151 : ['counti', 'new', 'york', 'new', 'york']\n",
      "1.5975122451782227\n",
      "\n",
      "152 : ['counti', 'rio', 'hondo', 'tx']\n",
      "0.32724928855895996\n",
      "\n",
      "153 : ['mean', 'tsh', 'low']\n",
      "0.9291951656341553\n",
      "\n",
      "154 : ['ativan', 'caus', 'cough']\n",
      "0.8102281093597412\n",
      "\n",
      "155 : ['weird', 'e', 'mean', 'math']\n",
      "0.784156084060669\n",
      "\n",
      "156 : ['zetia', 'treat']\n",
      "0.19038939476013184\n",
      "\n",
      "157 : ['drive', 'poach']\n",
      "0.17517423629760742\n",
      "\n",
      "158 : ['food', 'take', 'plane']\n",
      "1.2507398128509521\n",
      "\n",
      "159 : ['fever', 'caus', 'miscarriag', 'earli', 'pregnanc']\n",
      "1.1624464988708496\n",
      "\n",
      "160 : ['alm']\n",
      "0.0008091926574707031\n",
      "\n",
      "161 : ['statutori', 'deed']\n",
      "0.022597074508666992\n",
      "\n",
      "162 : ['torn', 'disc']\n",
      "0.036659955978393555\n",
      "\n",
      "163 : ['aid', 'hiv']\n",
      "0.08386683464050293\n",
      "\n",
      "164 : ['mbot']\n",
      "0.00024890899658203125\n",
      "\n",
      "165 : ['chronomet', 'invent']\n",
      "0.04181718826293945\n",
      "\n",
      "166 : ['cow', 'chip']\n",
      "0.05185818672180176\n",
      "\n",
      "167 : ['crimp', 'oil']\n",
      "0.22896146774291992\n",
      "\n",
      "168 : ['uti', 'caus', 'stroke']\n",
      "0.8293685913085938\n",
      "\n",
      "169 : ['mamey']\n",
      "0.0002777576446533203\n",
      "\n",
      "170 : ['onboard', 'credit', 'union']\n",
      "0.28581857681274414\n",
      "\n",
      "171 : ['rsrq']\n",
      "0.0003662109375\n",
      "\n",
      "172 : ['scientif', 'definit', 'cytoplasm']\n",
      "0.5005922317504883\n",
      "\n",
      "173 : ['sculptur', 'shape', 'space']\n",
      "0.2812795639038086\n",
      "\n",
      "174 : ['supplement', 'secur', 'incom', 'use']\n",
      "3.1045825481414795\n",
      "\n",
      "175 : ['actor', 'color']\n",
      "0.3013293743133545\n",
      "\n",
      "176 : ['best', 'music', 'maker']\n",
      "0.7016987800598145\n",
      "\n",
      "177 : ['botan', 'name', 'mango']\n",
      "0.7312922477722168\n",
      "\n",
      "178 : ['data', 'rate', 'sdtv']\n",
      "0.7523627281188965\n",
      "\n",
      "179 : ['electr', 'field']\n",
      "0.4339711666107178\n",
      "\n",
      "180 : ['symptom', 'croup']\n",
      "0.35411787033081055\n",
      "\n",
      "181 : ['caus', 'short', 'breath', 'exert']\n",
      "1.0676391124725342\n",
      "\n",
      "182 : ['temperatur', 'venic', 'fl']\n",
      "0.3068728446960449\n",
      "\n",
      "183 : ['caus', 'ga', 'larg', 'intestin']\n",
      "1.4263346195220947\n",
      "\n",
      "184 : ['metal', 'hip', 'replac', 'made']\n",
      "0.8012523651123047\n",
      "\n",
      "185 : ['brain', 'protein', 'caus', 'dementia']\n",
      "1.107494592666626\n",
      "\n",
      "186 : ['caus', 'stroke']\n",
      "0.8436136245727539\n",
      "\n",
      "187 : ['type', 'conflict', 'della', 'face', 'henri', 'gift', 'magi']\n",
      "0.9986071586608887\n",
      "\n",
      "188 : ['type', 'tissu', 'bronchiol']\n",
      "0.878690242767334\n",
      "\n",
      "189 : ['chicken', 'food', 'wikipedia']\n",
      "0.5215990543365479\n",
      "\n",
      "190 : ['darwin', \"'s\", 'greatest', 'contribut', 'evolutionari', 'theori']\n",
      "2.447373628616333\n",
      "\n",
      "191 : ['famili', 'feud', 'come']\n",
      "0.8074202537536621\n",
      "\n",
      "192 : ['rock', 'n', 'roll', 'begin']\n",
      "0.5111587047576904\n",
      "\n",
      "193 : ['ace', 'hardwar', 'open']\n",
      "0.4009513854980469\n",
      "\n",
      "194 : ['berlin', 'center']\n",
      "0.3041348457336426\n",
      "\n",
      "195 : ['kampuchea']\n",
      "0.0003769397735595703\n",
      "\n",
      "196 : ['convert', 'sq', 'meter', 'sq', 'inch']\n",
      "0.3479588031768799\n",
      "\n",
      "197 : ['show', 'shameless', 'film']\n",
      "0.5469932556152344\n",
      "\n",
      "198 : ['velbert']\n",
      "0.00028967857360839844\n",
      "\n",
      "199 : ['definit', 'attempt', 'arson']\n",
      "0.4318807125091553\n",
      "\n",
      "Total time to process the queries: 153.97906017303467\n",
      "\n"
     ]
    }
   ],
   "source": [
    "process_start_time = time.time()\n",
    "\n",
    "queries_matches = []\n",
    "\n",
    "for i in range(200):\n",
    "    start_time = time.time()\n",
    "\n",
    "    print(\"{} : {}\".format(i, stemmed_queries[i]))\n",
    "    \n",
    "    queries_matches.append(find_related_documents(stemmed_queries[i]))\n",
    "\n",
    "    print(\"{}\\n\".format(time.time() - start_time))\n",
    "    \n",
    "print(\"Total time to process the queries: {}\\n\".format(time.time() - process_start_time))    "
   ]
  },
  {
   "cell_type": "markdown",
   "id": "be8ed9e0",
   "metadata": {},
   "source": [
    "### Now save the results in the TREC format"
   ]
  },
  {
   "cell_type": "code",
   "execution_count": 28,
   "id": "cffee450",
   "metadata": {},
   "outputs": [],
   "source": [
    "TREC_RESULT_LINE_FORMAT=\"{}\\tQ0\\t{}\\t{}\\t{}\\tboolean\\n\"\n",
    "MAX_RESULTS_TO_SAVE=1000"
   ]
  },
  {
   "cell_type": "code",
   "execution_count": 29,
   "id": "384069a3",
   "metadata": {},
   "outputs": [],
   "source": [
    "def generate_trec_format(queries_matches, query_ids, output_filename, verbose=False):\n",
    "    \n",
    "    with open(output_filename, 'w') as outputFile:\n",
    "        for i, query_result in enumerate(queries_matches):\n",
    "            \n",
    "            if verbose:\n",
    "                print(\"Saving query {}\\n{}:\".format(i, query_text[i]))\n",
    "            \n",
    "            relevant_docs = np.array(list(query_result.keys()))\n",
    "            relevant_docs_scores = np.array(list(query_result.values()))\n",
    "            \n",
    "            relevant_docs_order = np.argsort(relevant_docs_scores)[::-1]\n",
    "            \n",
    "            if verbose:\n",
    "                print(\"relevant_docs.shape={}\".format(relevant_docs.shape))\n",
    "            \n",
    "            relevant_docs_final_result = relevant_docs[relevant_docs_order]\n",
    "            relevant_docs_final_score = relevant_docs_scores[relevant_docs_order]\n",
    "            \n",
    "            if verbose:\n",
    "                print(\"relevant_docs_final_result: {}\\n\\n\".format(relevant_docs_final_result))\n",
    "            \n",
    "            for j, each_match in enumerate(relevant_docs_final_result[:MAX_RESULTS_TO_SAVE]):\n",
    "                outputFile.write(TREC_RESULT_LINE_FORMAT.format(query_ids[i], each_match, j, relevant_docs_final_score[j]))"
   ]
  },
  {
   "cell_type": "code",
   "execution_count": 30,
   "id": "1ce4e57e",
   "metadata": {},
   "outputs": [],
   "source": [
    "run_filename = os.path.join(TREC_DL_2020_RUN_FOLDER, TREC_DL_2020_RUN_FORMAT.format(datetime.now().strftime(\"%Y%m%d_%H%M%S\")))"
   ]
  },
  {
   "cell_type": "code",
   "execution_count": 31,
   "id": "ed7d3dea",
   "metadata": {},
   "outputs": [],
   "source": [
    "generate_trec_format(queries_matches, query_index, run_filename)"
   ]
  },
  {
   "cell_type": "markdown",
   "id": "f4ab7e4f",
   "metadata": {},
   "source": [
    "### Now, apply the TREC metrics"
   ]
  },
  {
   "cell_type": "code",
   "execution_count": 32,
   "id": "b0c42981",
   "metadata": {},
   "outputs": [
    {
     "name": "stdout",
     "output_type": "stream",
     "text": [
      "map                   \tall\t0.0983\r\n",
      "recip_rank            \tall\t0.3632\r\n",
      "recall_1000           \tall\t0.5019\r\n",
      "ndcg_cut_10           \tall\t0.1740\r\n"
     ]
    }
   ],
   "source": [
    "!{TREC_EVAL_FULLPATH} -c -mrecall.1000 -mmap -mndcg_cut.10 -mrecip_rank \\\n",
    "    {TREC_DL_2020_QRELS} {run_filename}"
   ]
  },
  {
   "cell_type": "code",
   "execution_count": null,
   "id": "2a710fdc",
   "metadata": {},
   "outputs": [],
   "source": []
  }
 ],
 "metadata": {
  "kernelspec": {
   "display_name": "Python 3",
   "language": "python",
   "name": "python3"
  },
  "language_info": {
   "codemirror_mode": {
    "name": "ipython",
    "version": 3
   },
   "file_extension": ".py",
   "mimetype": "text/x-python",
   "name": "python",
   "nbconvert_exporter": "python",
   "pygments_lexer": "ipython3",
   "version": "3.8.16"
  }
 },
 "nbformat": 4,
 "nbformat_minor": 5
}
